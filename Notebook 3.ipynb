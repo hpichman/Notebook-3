{
 "cells": [
  {
   "cell_type": "markdown",
   "id": "47f308d0",
   "metadata": {},
   "source": [
    "# Clustering\n",
    "#### Clustering: KNN\n",
    "#### Goal: Implement and try KNN\n",
    "#### Steps: Create clusters with scikit-learn (make_blobs function), perform KNN clustering on tehse, determine a good value for k and explain your choice"
   ]
  },
  {
   "cell_type": "code",
   "execution_count": 64,
   "id": "b4ef276b",
   "metadata": {},
   "outputs": [
    {
     "name": "stdout",
     "output_type": "stream",
     "text": [
      "[  0 756 755 754 753   1 828 820 752]\n",
      "[ 0.          5.82        8.37       10.33       12.68       18.1\n",
      " 18.68154169 19.77104954 20.23      ]\n"
     ]
    }
   ],
   "source": [
    "import numpy as np\n",
    "from sklearn.neighbors import NearestNeighbors\n",
    "\n",
    "import pandas as pd\n",
    "import numpy as np\n",
    "\n",
    "df=pd.read_csv(r'C:\\Users\\Hannah Pichman\\Downloads\\archive\\Concrete_Data_Yeh.csv')\n",
    "\n",
    "column1 = df['cement'].values\n",
    "column2 = df['csMPa'].values\n",
    "data = np.column_stack((column1, column2))\n",
    "\n",
    "\n",
    "# create k-nearest neighbors object\n",
    "k = 9\n",
    "knn = NearestNeighbors(n_neighbors=k)\n",
    "\n",
    "# fit the data to the k-nearest neighbors object\n",
    "knn.fit(data)\n",
    "\n",
    "# get the indices and distances of the k-nearest neighbors of each data point\n",
    "distances, indices = knn.kneighbors(data)\n",
    "\n",
    "# print the indices and distances of the k-nearest neighbors of the first data point\n",
    "print(indices[0])\n",
    "print(distances[0])\n"
   ]
  },
  {
   "cell_type": "code",
   "execution_count": 63,
   "id": "a16b2740",
   "metadata": {},
   "outputs": [
    {
     "name": "stdout",
     "output_type": "stream",
     "text": [
      "Accuracy: 0.2652366950880033\n"
     ]
    }
   ],
   "source": [
    "import numpy as np\n",
    "import pandas as pd\n",
    "from sklearn.neighbors import KNeighborsRegressor\n",
    "from sklearn.model_selection import train_test_split\n",
    "from sklearn.metrics import mean_squared_error\n",
    "\n",
    "# read the dataset\n",
    "df = pd.read_csv(r'C:\\Users\\Hannah Pichman\\Downloads\\archive\\Concrete_Data_Yeh.csv')\n",
    "\n",
    "# select the columns for the features and target variable\n",
    "X = df[['cement']]\n",
    "y = df['csMPa']\n",
    "\n",
    "# split the dataset into training and testing sets\n",
    "X_train, X_test, y_train, y_test = train_test_split(X, y, test_size=0.3, random_state=42)\n",
    "\n",
    "# create a k-NN regressor with k=10\n",
    "k = 9\n",
    "knn = KNeighborsRegressor(n_neighbors=k)\n",
    "\n",
    "# fit the regressor to the training data\n",
    "knn.fit(X_train, y_train)\n",
    "\n",
    "# predict the target variable of the testing data\n",
    "y_pred = knn.predict(X_test)\n",
    "\n",
    "# compute the mean squared error of the predictions\n",
    "mse = mean_squared_error(y_test, y_pred)\n",
    "\n",
    "# compute the accuracy of the regressor\n",
    "accuracy = 1 - (mse / np.var(y_test))\n",
    "\n",
    "# print the accuracy\n",
    "print(\"Accuracy:\", accuracy)\n"
   ]
  },
  {
   "cell_type": "markdown",
   "id": "5084bd8c",
   "metadata": {},
   "source": [
    "I tested several different k values, and k=9 gave me the best accuracy. This accuracy is really bad though, so the code still needs to be adjusted.\n"
   ]
  },
  {
   "cell_type": "markdown",
   "id": "c348d51a",
   "metadata": {},
   "source": [
    "# Perform PCA on \"Concrete\" Dataset"
   ]
  },
  {
   "cell_type": "code",
   "execution_count": 39,
   "id": "c344a9be",
   "metadata": {},
   "outputs": [],
   "source": [
    "import pandas as pd\n",
    "import numpy as np\n",
    "import math\n",
    "\n",
    "import seaborn as sns\n",
    "from matplotlib import pyplot as plt\n",
    "%matplotlib inline\n",
    "\n",
    "df=pd.read_csv(r'C:\\Users\\Hannah Pichman\\Downloads\\archive\\Concrete_Data_Yeh.csv')\n",
    "target = df.csMPa.values"
   ]
  },
  {
   "cell_type": "code",
   "execution_count": 40,
   "id": "7f7e1e74",
   "metadata": {},
   "outputs": [],
   "source": [
    "del df['csMPa']"
   ]
  },
  {
   "cell_type": "code",
   "execution_count": 41,
   "id": "c837e3d6",
   "metadata": {},
   "outputs": [
    {
     "data": {
      "text/plain": [
       "(1030, 8)"
      ]
     },
     "execution_count": 41,
     "metadata": {},
     "output_type": "execute_result"
    }
   ],
   "source": [
    "X = df.values\n",
    "X.shape"
   ]
  },
  {
   "cell_type": "code",
   "execution_count": 42,
   "id": "8ac32086",
   "metadata": {},
   "outputs": [],
   "source": [
    "from sklearn.preprocessing import StandardScaler\n",
    "scaler = StandardScaler()\n",
    "scaler.fit(X)\n",
    "X_scaled = scaler.transform(X)"
   ]
  },
  {
   "cell_type": "code",
   "execution_count": 43,
   "id": "a0353f80",
   "metadata": {},
   "outputs": [
    {
     "name": "stdout",
     "output_type": "stream",
     "text": [
      "PCA(n_components=8)\n",
      "components: [[ 0.09840137  0.17726197 -0.39466185  0.54700395 -0.50594541  0.03792808\n",
      "  -0.40192597  0.29147949]\n",
      " [-0.11373709  0.6860529  -0.14294751  0.05325628  0.2829296  -0.62994342\n",
      "  -0.01939111 -0.12598089]\n",
      " [ 0.81420224 -0.17179437 -0.40822055 -0.21318975  0.23459653 -0.17408781\n",
      "  -0.00456921  0.10052137]\n",
      " [-0.054297   -0.36269932  0.2267512   0.29606003 -0.03727351 -0.54580513\n",
      "   0.38528206  0.52791909]\n",
      " [ 0.14820612 -0.02093167  0.54963115  0.07022191  0.35461841 -0.03308317\n",
      "  -0.70123743  0.22801019]\n",
      " [-0.20314214  0.30488197 -0.1832672  -0.36597033  0.19329372  0.31455942\n",
      "   0.09246568  0.743908  ]\n",
      " [ 0.22184381  0.22836331  0.35246257 -0.52427468 -0.66464314 -0.22684015\n",
      "  -0.03902583  0.06936667]\n",
      " [ 0.44616267  0.43738376  0.38188581  0.38874117  0.05174995  0.34931986\n",
      "   0.43336994  0.01288097]]\n",
      "explained variance: [2.2823152  1.41745097 1.34138135 1.01514445 0.95243269 0.7909634\n",
      " 0.17801452 0.03007197]\n",
      "cummulative explained variance: 8.008\n",
      "ratio:  100.0\n"
     ]
    }
   ],
   "source": [
    "from sklearn.decomposition import PCA # within the scikit-learn module which focuses on\n",
    "                                      # Machine Learning in Python, we import PCA decomposition algorithm\n",
    "pca8 = PCA(n_components=8)            # applies PCA with the argument that we want a two-component fit\n",
    "pca8.fit(X_scaled)                           # fits the PCA model with dataset X defined above\n",
    "print(pca8)                          # this is only the PCA object!\n",
    "X_pca8 = pca8.transform(X_scaled)\n",
    "\n",
    "# The fit learns some quantities from the data, namely the \"components\" and \"explained variance\"\n",
    "# In this example, there are two sets of components to be described below\n",
    "\n",
    "print('components: ' + str(pca8.components_))                 # each component defined by x-y pair\n",
    "print('explained variance: ' + str(pca8.explained_variance_)) # how much variance each component explains \n",
    "                                                              # taking into consideration the entire dataset\n",
    "print('cummulative explained variance: ' + str(round(sum(pca8.explained_variance_),3)))\n",
    "print('ratio: ', sum(pca8.explained_variance_ratio_ * 100))"
   ]
  },
  {
   "cell_type": "code",
   "execution_count": 44,
   "id": "232a5398",
   "metadata": {},
   "outputs": [
    {
     "data": {
      "text/plain": [
       "array([ 28.50124202,  46.20217702,  62.95316494,  75.6301508 ,\n",
       "        87.52400072,  97.40144413,  99.62446526, 100.        ])"
      ]
     },
     "execution_count": 44,
     "metadata": {},
     "output_type": "execute_result"
    }
   ],
   "source": [
    "np.cumsum(pca8.explained_variance_ratio_ * 100)"
   ]
  },
  {
   "cell_type": "code",
   "execution_count": 45,
   "id": "b06a600c",
   "metadata": {},
   "outputs": [
    {
     "data": {
      "text/plain": [
       "[<matplotlib.lines.Line2D at 0x209c87d33a0>]"
      ]
     },
     "execution_count": 45,
     "metadata": {},
     "output_type": "execute_result"
    },
    {
     "data": {
      "image/png": "[encoded data removed]",
      "text/plain": [
       "<Figure size 640x480 with 1 Axes>"
      ]
     },
     "metadata": {},
     "output_type": "display_data"
    }
   ],
   "source": [
    "plt.plot(np.cumsum(pca8.explained_variance_ratio_ * 100))"
   ]
  },
  {
   "cell_type": "code",
   "execution_count": 46,
   "id": "d420ec10",
   "metadata": {},
   "outputs": [
    {
     "data": {
      "text/plain": [
       "<AxesSubplot:>"
      ]
     },
     "execution_count": 46,
     "metadata": {},
     "output_type": "execute_result"
    },
    {
     "data": {
      "image/png": "[encoded data removed]",
      "text/plain": [
       "<Figure size 640x480 with 1 Axes>"
      ]
     },
     "metadata": {},
     "output_type": "display_data"
    }
   ],
   "source": [
    "pca2 = PCA(n_components=2)           \n",
    "pca2.fit(X_scaled)                          \n",
    "X_pca2 = pca2.transform(X_scaled)\n",
    "sns.scatterplot(x=X_pca2[:,0],y=X_pca2[:,1],hue=target)"
   ]
  },
  {
   "cell_type": "code",
   "execution_count": 47,
   "id": "adf9103d",
   "metadata": {},
   "outputs": [
    {
     "name": "stdout",
     "output_type": "stream",
     "text": [
      "components: [[ 0.09840137  0.17726197 -0.39466185  0.54700395 -0.50594541  0.03792808\n",
      "  -0.40192597  0.29147949]\n",
      " [-0.11373709  0.6860529  -0.14294751  0.05325628  0.2829296  -0.62994342\n",
      "  -0.01939111 -0.12598089]]\n"
     ]
    }
   ],
   "source": [
    "print('components: ' + str(pca2.components_))"
   ]
  },
  {
   "cell_type": "markdown",
   "id": "94b203be",
   "metadata": {},
   "source": [
    "# Compute Confusion Matrix"
   ]
  },
  {
   "cell_type": "code",
   "execution_count": 1,
   "id": "1147f5fe",
   "metadata": {},
   "outputs": [],
   "source": [
    "import pandas as pd\n",
    "import numpy as np\n",
    "import math\n",
    "from sklearn.feature_extraction import DictVectorizer\n",
    "from sklearn.metrics import accuracy_score\n",
    "\n",
    "import seaborn as sns\n",
    "from matplotlib import pyplot as plt\n",
    "%matplotlib inline\n",
    "\n",
    "df=pd.read_csv(r'C:\\Users\\Hannah Pichman\\Downloads\\archive\\Concrete_Data_Yeh.csv')\n"
   ]
  },
  {
   "cell_type": "code",
   "execution_count": 2,
   "id": "94ef2444",
   "metadata": {},
   "outputs": [
    {
     "data": {
      "image/png": "[encoded data removed]",
      "text/plain": [
       "<Figure size 600x400 with 1 Axes>"
      ]
     },
     "metadata": {},
     "output_type": "display_data"
    }
   ],
   "source": [
    "plt.figure(figsize=(6, 4))\n",
    "\n",
    "sns.histplot(df.csMPa, label='histogram', color='#0000aa', alpha=0.8, bins=40)\n",
    "\n",
    "plt.legend()\n",
    "\n",
    "plt.ylabel('frequency')\n",
    "plt.xlabel('csMPa')\n",
    "\n",
    "plt.show()"
   ]
  },
  {
   "cell_type": "code",
   "execution_count": 3,
   "id": "9498d0d2",
   "metadata": {},
   "outputs": [],
   "source": [
    "df['goodconcrete']=(df.csMPa>50.0).astype(int)\n",
    "del df['csMPa']"
   ]
  },
  {
   "cell_type": "code",
   "execution_count": 4,
   "id": "8d238885",
   "metadata": {},
   "outputs": [
    {
     "data": {
      "text/html": [
       "<div>\n",
       "<style scoped>\n",
       "    .dataframe tbody tr th:only-of-type {\n",
       "        vertical-align: middle;\n",
       "    }\n",
       "\n",
       "    .dataframe tbody tr th {\n",
       "        vertical-align: top;\n",
       "    }\n",
       "\n",
       "    .dataframe thead th {\n",
       "        text-align: right;\n",
       "    }\n",
       "</style>\n",
       "<table border=\"1\" class=\"dataframe\">\n",
       "  <thead>\n",
       "    <tr style=\"text-align: right;\">\n",
       "      <th></th>\n",
       "      <th>cement</th>\n",
       "      <th>slag</th>\n",
       "      <th>flyash</th>\n",
       "      <th>water</th>\n",
       "      <th>superplasticizer</th>\n",
       "      <th>coarseaggregate</th>\n",
       "      <th>fineaggregate</th>\n",
       "      <th>age</th>\n",
       "      <th>goodconcrete</th>\n",
       "    </tr>\n",
       "  </thead>\n",
       "  <tbody>\n",
       "    <tr>\n",
       "      <th>1025</th>\n",
       "      <td>276.4</td>\n",
       "      <td>116.0</td>\n",
       "      <td>90.3</td>\n",
       "      <td>179.6</td>\n",
       "      <td>8.9</td>\n",
       "      <td>870.1</td>\n",
       "      <td>768.3</td>\n",
       "      <td>28</td>\n",
       "      <td>0</td>\n",
       "    </tr>\n",
       "    <tr>\n",
       "      <th>1026</th>\n",
       "      <td>322.2</td>\n",
       "      <td>0.0</td>\n",
       "      <td>115.6</td>\n",
       "      <td>196.0</td>\n",
       "      <td>10.4</td>\n",
       "      <td>817.9</td>\n",
       "      <td>813.4</td>\n",
       "      <td>28</td>\n",
       "      <td>0</td>\n",
       "    </tr>\n",
       "    <tr>\n",
       "      <th>1027</th>\n",
       "      <td>148.5</td>\n",
       "      <td>139.4</td>\n",
       "      <td>108.6</td>\n",
       "      <td>192.7</td>\n",
       "      <td>6.1</td>\n",
       "      <td>892.4</td>\n",
       "      <td>780.0</td>\n",
       "      <td>28</td>\n",
       "      <td>0</td>\n",
       "    </tr>\n",
       "    <tr>\n",
       "      <th>1028</th>\n",
       "      <td>159.1</td>\n",
       "      <td>186.7</td>\n",
       "      <td>0.0</td>\n",
       "      <td>175.6</td>\n",
       "      <td>11.3</td>\n",
       "      <td>989.6</td>\n",
       "      <td>788.9</td>\n",
       "      <td>28</td>\n",
       "      <td>0</td>\n",
       "    </tr>\n",
       "    <tr>\n",
       "      <th>1029</th>\n",
       "      <td>260.9</td>\n",
       "      <td>100.5</td>\n",
       "      <td>78.3</td>\n",
       "      <td>200.6</td>\n",
       "      <td>8.6</td>\n",
       "      <td>864.5</td>\n",
       "      <td>761.5</td>\n",
       "      <td>28</td>\n",
       "      <td>0</td>\n",
       "    </tr>\n",
       "  </tbody>\n",
       "</table>\n",
       "</div>"
      ],
      "text/plain": [
       "      cement   slag  flyash  water  superplasticizer  coarseaggregate  \\\n",
       "1025   276.4  116.0    90.3  179.6               8.9            870.1   \n",
       "1026   322.2    0.0   115.6  196.0              10.4            817.9   \n",
       "1027   148.5  139.4   108.6  192.7               6.1            892.4   \n",
       "1028   159.1  186.7     0.0  175.6              11.3            989.6   \n",
       "1029   260.9  100.5    78.3  200.6               8.6            864.5   \n",
       "\n",
       "      fineaggregate  age  goodconcrete  \n",
       "1025          768.3   28             0  \n",
       "1026          813.4   28             0  \n",
       "1027          780.0   28             0  \n",
       "1028          788.9   28             0  \n",
       "1029          761.5   28             0  "
      ]
     },
     "execution_count": 4,
     "metadata": {},
     "output_type": "execute_result"
    }
   ],
   "source": [
    "df.tail()"
   ]
  },
  {
   "cell_type": "code",
   "execution_count": 35,
   "id": "ee0a629d",
   "metadata": {},
   "outputs": [
    {
     "data": {
      "text/plain": [
       "0       1\n",
       "1       1\n",
       "2       0\n",
       "3       0\n",
       "4       0\n",
       "       ..\n",
       "1025    0\n",
       "1026    0\n",
       "1027    0\n",
       "1028    0\n",
       "1029    0\n",
       "Name: goodconcrete, Length: 1030, dtype: int32"
      ]
     },
     "execution_count": 35,
     "metadata": {},
     "output_type": "execute_result"
    }
   ],
   "source": [
    "\n"
   ]
  },
  {
   "cell_type": "code",
   "execution_count": 5,
   "id": "30ae645c",
   "metadata": {},
   "outputs": [
    {
     "data": {
      "image/png": "[encoded data removed]",
      "text/plain": [
       "<Figure size 600x400 with 1 Axes>"
      ]
     },
     "metadata": {},
     "output_type": "display_data"
    }
   ],
   "source": [
    "plt.figure(figsize=(6, 4))\n",
    "\n",
    "sns.histplot(df.goodconcrete, label='histogram', color='#0000aa', alpha=0.8, bins=40)\n",
    "\n",
    "plt.legend()\n",
    "\n",
    "plt.ylabel('frequency')\n",
    "plt.xlabel('csMPa')\n",
    "\n",
    "plt.show()"
   ]
  },
  {
   "cell_type": "code",
   "execution_count": 6,
   "id": "8f5e6bac",
   "metadata": {},
   "outputs": [],
   "source": [
    "#Validation\n",
    "from sklearn.model_selection import train_test_split\n",
    "df_train_full, df_test = train_test_split(df, test_size=0.2, random_state=1)"
   ]
  },
  {
   "cell_type": "code",
   "execution_count": 7,
   "id": "918e8342",
   "metadata": {},
   "outputs": [],
   "source": [
    "df_train, df_val = train_test_split(df_train_full, test_size=0.33, random_state=11)"
   ]
  },
  {
   "cell_type": "code",
   "execution_count": 8,
   "id": "731da0c7",
   "metadata": {},
   "outputs": [],
   "source": [
    "y_train = df_train.goodconcrete.values\n",
    "y_val = df_val.goodconcrete.values"
   ]
  },
  {
   "cell_type": "code",
   "execution_count": 9,
   "id": "28007409",
   "metadata": {},
   "outputs": [],
   "source": [
    "del df_train['goodconcrete']\n",
    "del df_val['goodconcrete']"
   ]
  },
  {
   "cell_type": "code",
   "execution_count": 10,
   "id": "797a161e",
   "metadata": {},
   "outputs": [
    {
     "data": {
      "text/plain": [
       "0.201"
      ]
     },
     "execution_count": 10,
     "metadata": {},
     "output_type": "execute_result"
    }
   ],
   "source": [
    "#Exploratory Data Analysis\n",
    "global_mean = df_train_full.goodconcrete.mean()\n",
    "round(global_mean, 3)"
   ]
  },
  {
   "cell_type": "code",
   "execution_count": 11,
   "id": "36e0daaf",
   "metadata": {},
   "outputs": [],
   "source": [
    "#Data Prep\n",
    "numerical=['cement', 'slag', 'flyash', 'water', 'age', 'superplasticizer', 'coarseaggregate', 'fineaggregate']"
   ]
  },
  {
   "cell_type": "code",
   "execution_count": 12,
   "id": "86c0f09e",
   "metadata": {},
   "outputs": [],
   "source": [
    "train_dict = df_train[numerical].to_dict(orient='records')\n",
    "dv = DictVectorizer(sparse=False)\n",
    "dv.fit(train_dict)\n",
    "X_train = dv.transform(train_dict)"
   ]
  },
  {
   "cell_type": "code",
   "execution_count": 13,
   "id": "00b919a1",
   "metadata": {},
   "outputs": [],
   "source": [
    "#Training Logistic Regression\n",
    "from sklearn.linear_model import LogisticRegression\n",
    "\n",
    "model = LogisticRegression(solver='liblinear', random_state=1)\n",
    "model.fit(X_train, y_train)\n",
    "\n",
    "val_dict = df_val[numerical].to_dict(orient='records')\n",
    "X_val = dv.transform(val_dict)\n"
   ]
  },
  {
   "cell_type": "code",
   "execution_count": 14,
   "id": "6012a064",
   "metadata": {},
   "outputs": [
    {
     "data": {
      "text/plain": [
       "array([0, 0, 0, 0, 0, 1, 0, 0, 0, 1, 0, 0, 0, 0, 1, 0, 1, 1, 0, 0, 1, 0,\n",
       "       0, 0, 0, 1, 0, 0, 0, 0, 0, 0, 0, 0, 0, 0, 0, 0, 0, 0, 0, 0, 0, 0,\n",
       "       0, 0, 0, 1, 1, 1, 0, 0, 0, 0, 0, 0, 0, 1, 0, 0, 0, 0, 0, 0, 0, 0,\n",
       "       0, 0, 0, 0, 1, 0, 0, 0, 1, 0, 0, 0, 1, 0, 1, 0, 0, 0, 0, 0, 1, 0,\n",
       "       0, 0, 0, 0, 1, 0, 0, 0, 0, 0, 0, 0, 1, 1, 1, 0, 0, 0, 1, 0, 0, 0,\n",
       "       0, 0, 0, 0, 0, 1, 0, 0, 0, 1, 0, 0, 1, 0, 1, 0, 0, 0, 0, 0, 0, 0,\n",
       "       0, 0, 1, 0, 0, 1, 0, 0, 0, 0, 1, 0, 0, 0, 0, 0, 0, 0, 0, 0, 1, 1,\n",
       "       0, 0, 0, 1, 0, 0, 0, 0, 1, 0, 1, 1, 0, 0, 0, 0, 0, 1, 0, 0, 0, 1,\n",
       "       1, 0, 0, 0, 0, 1, 1, 0, 0, 0, 0, 0, 0, 1, 0, 0, 0, 1, 0, 0, 0, 0,\n",
       "       0, 0, 0, 0, 0, 0, 1, 1, 0, 0, 0, 1, 0, 1, 0, 0, 0, 0, 0, 0, 0, 0,\n",
       "       0, 0, 1, 0, 0, 0, 1, 0, 0, 0, 0, 0, 1, 0, 0, 0, 0, 0, 0, 0, 1, 0,\n",
       "       0, 0, 0, 0, 1, 0, 0, 0, 0, 0, 0, 0, 0, 1, 0, 0, 1, 0, 0, 0, 1, 1,\n",
       "       0, 0, 0, 0, 0, 0, 0, 0])"
      ]
     },
     "execution_count": 14,
     "metadata": {},
     "output_type": "execute_result"
    }
   ],
   "source": [
    "model.predict(X_val)"
   ]
  },
  {
   "cell_type": "code",
   "execution_count": 15,
   "id": "319248a8",
   "metadata": {},
   "outputs": [
    {
     "data": {
      "text/plain": [
       "array([[9.42517772e-01, 5.74822285e-02],\n",
       "       [9.87828720e-01, 1.21712800e-02],\n",
       "       [9.91724605e-01, 8.27539495e-03],\n",
       "       [8.24016265e-01, 1.75983735e-01],\n",
       "       [9.91050968e-01, 8.94903244e-03],\n",
       "       [3.64628976e-01, 6.35371024e-01],\n",
       "       [7.79546072e-01, 2.20453928e-01],\n",
       "       [9.85742957e-01, 1.42570433e-02],\n",
       "       [9.99229048e-01, 7.70951984e-04],\n",
       "       [3.47768574e-01, 6.52231426e-01],\n",
       "       [8.99356837e-01, 1.00643163e-01],\n",
       "       [9.89271908e-01, 1.07280920e-02],\n",
       "       [9.90064700e-01, 9.93530015e-03],\n",
       "       [6.55576183e-01, 3.44423817e-01],\n",
       "       [2.58987133e-01, 7.41012867e-01],\n",
       "       [9.19704123e-01, 8.02958771e-02],\n",
       "       [1.76319718e-01, 8.23680282e-01],\n",
       "       [1.67959267e-01, 8.32040733e-01],\n",
       "       [9.94699706e-01, 5.30029355e-03],\n",
       "       [9.15495024e-01, 8.45049757e-02],\n",
       "       [4.08475548e-01, 5.91524452e-01],\n",
       "       [9.96436830e-01, 3.56316998e-03],\n",
       "       [8.87835551e-01, 1.12164449e-01],\n",
       "       [9.85468841e-01, 1.45311591e-02],\n",
       "       [5.47196150e-01, 4.52803850e-01],\n",
       "       [4.41469966e-01, 5.58530034e-01],\n",
       "       [9.63676679e-01, 3.63233209e-02],\n",
       "       [9.36184647e-01, 6.38153525e-02],\n",
       "       [7.80184086e-01, 2.19815914e-01],\n",
       "       [6.05110491e-01, 3.94889509e-01],\n",
       "       [9.80769909e-01, 1.92300906e-02],\n",
       "       [9.72309922e-01, 2.76900782e-02],\n",
       "       [9.75931174e-01, 2.40688259e-02],\n",
       "       [9.14545628e-01, 8.54543717e-02],\n",
       "       [9.73006185e-01, 2.69938148e-02],\n",
       "       [9.96767586e-01, 3.23241444e-03],\n",
       "       [9.09362115e-01, 9.06378853e-02],\n",
       "       [9.60218206e-01, 3.97817935e-02],\n",
       "       [9.35527889e-01, 6.44721112e-02],\n",
       "       [9.93729668e-01, 6.27033202e-03],\n",
       "       [7.39145206e-01, 2.60854794e-01],\n",
       "       [9.93405786e-01, 6.59421379e-03],\n",
       "       [5.16178427e-01, 4.83821573e-01],\n",
       "       [9.88991316e-01, 1.10086837e-02],\n",
       "       [9.76981622e-01, 2.30183784e-02],\n",
       "       [6.53757736e-01, 3.46242264e-01],\n",
       "       [9.94308182e-01, 5.69181847e-03],\n",
       "       [2.51742083e-01, 7.48257917e-01],\n",
       "       [5.08827572e-02, 9.49117243e-01],\n",
       "       [1.38571335e-01, 8.61428665e-01],\n",
       "       [9.82235968e-01, 1.77640325e-02],\n",
       "       [8.82398711e-01, 1.17601289e-01],\n",
       "       [9.75319638e-01, 2.46803617e-02],\n",
       "       [5.20076488e-01, 4.79923512e-01],\n",
       "       [9.92536237e-01, 7.46376286e-03],\n",
       "       [9.73871196e-01, 2.61288035e-02],\n",
       "       [9.71824937e-01, 2.81750628e-02],\n",
       "       [1.48622134e-01, 8.51377866e-01],\n",
       "       [6.79440805e-01, 3.20559195e-01],\n",
       "       [8.44829922e-01, 1.55170078e-01],\n",
       "       [7.02620630e-01, 2.97379370e-01],\n",
       "       [9.80665761e-01, 1.93342394e-02],\n",
       "       [9.94910399e-01, 5.08960114e-03],\n",
       "       [9.20849826e-01, 7.91501745e-02],\n",
       "       [8.52667633e-01, 1.47332367e-01],\n",
       "       [6.87227049e-01, 3.12772951e-01],\n",
       "       [7.34300528e-01, 2.65699472e-01],\n",
       "       [9.51543839e-01, 4.84561611e-02],\n",
       "       [9.95726107e-01, 4.27389322e-03],\n",
       "       [8.16272682e-01, 1.83727318e-01],\n",
       "       [1.21356423e-01, 8.78643577e-01],\n",
       "       [9.43348812e-01, 5.66511879e-02],\n",
       "       [8.48238186e-01, 1.51761814e-01],\n",
       "       [8.75916279e-01, 1.24083721e-01],\n",
       "       [3.50984907e-01, 6.49015093e-01],\n",
       "       [9.69045420e-01, 3.09545795e-02],\n",
       "       [9.20998768e-01, 7.90012318e-02],\n",
       "       [9.96193864e-01, 3.80613573e-03],\n",
       "       [1.45019722e-01, 8.54980278e-01],\n",
       "       [5.30553771e-01, 4.69446229e-01],\n",
       "       [2.68191741e-01, 7.31808259e-01],\n",
       "       [9.92419323e-01, 7.58067682e-03],\n",
       "       [9.30981796e-01, 6.90182036e-02],\n",
       "       [9.56486559e-01, 4.35134413e-02],\n",
       "       [9.89130139e-01, 1.08698607e-02],\n",
       "       [6.51094741e-01, 3.48905259e-01],\n",
       "       [4.37590365e-01, 5.62409635e-01],\n",
       "       [9.98454836e-01, 1.54516413e-03],\n",
       "       [9.84183503e-01, 1.58164968e-02],\n",
       "       [8.84644240e-01, 1.15355760e-01],\n",
       "       [8.56430898e-01, 1.43569102e-01],\n",
       "       [9.96897669e-01, 3.10233150e-03],\n",
       "       [2.73226381e-01, 7.26773619e-01],\n",
       "       [9.08701574e-01, 9.12984262e-02],\n",
       "       [9.12398816e-01, 8.76011836e-02],\n",
       "       [8.61052477e-01, 1.38947523e-01],\n",
       "       [9.82094837e-01, 1.79051631e-02],\n",
       "       [5.27012489e-01, 4.72987511e-01],\n",
       "       [9.82200366e-01, 1.77996343e-02],\n",
       "       [9.60213619e-01, 3.97863810e-02],\n",
       "       [3.38223487e-01, 6.61776513e-01],\n",
       "       [4.60587405e-01, 5.39412595e-01],\n",
       "       [2.01280269e-01, 7.98719731e-01],\n",
       "       [9.74455324e-01, 2.55446764e-02],\n",
       "       [9.55793448e-01, 4.42065517e-02],\n",
       "       [9.55130240e-01, 4.48697603e-02],\n",
       "       [4.77558168e-01, 5.22441832e-01],\n",
       "       [6.72382212e-01, 3.27617788e-01],\n",
       "       [9.81957138e-01, 1.80428621e-02],\n",
       "       [9.84524356e-01, 1.54756440e-02],\n",
       "       [8.83093225e-01, 1.16906775e-01],\n",
       "       [9.98073133e-01, 1.92686702e-03],\n",
       "       [9.93913927e-01, 6.08607309e-03],\n",
       "       [7.05214150e-01, 2.94785850e-01],\n",
       "       [9.81746243e-01, 1.82537565e-02],\n",
       "       [4.00540463e-01, 5.99459537e-01],\n",
       "       [9.49660799e-01, 5.03392012e-02],\n",
       "       [9.88714957e-01, 1.12850433e-02],\n",
       "       [9.79471928e-01, 2.05280721e-02],\n",
       "       [9.63909031e-02, 9.03609097e-01],\n",
       "       [9.68657847e-01, 3.13421531e-02],\n",
       "       [8.60448056e-01, 1.39551944e-01],\n",
       "       [2.92064734e-01, 7.07935266e-01],\n",
       "       [9.90594242e-01, 9.40575821e-03],\n",
       "       [2.81723719e-01, 7.18276281e-01],\n",
       "       [9.37185325e-01, 6.28146746e-02],\n",
       "       [9.14406636e-01, 8.55933643e-02],\n",
       "       [9.28465984e-01, 7.15340159e-02],\n",
       "       [9.44157318e-01, 5.58426820e-02],\n",
       "       [8.59909900e-01, 1.40090100e-01],\n",
       "       [9.89523180e-01, 1.04768200e-02],\n",
       "       [9.93078148e-01, 6.92185193e-03],\n",
       "       [7.01203746e-01, 2.98796254e-01],\n",
       "       [9.99288874e-01, 7.11125624e-04],\n",
       "       [2.56720395e-01, 7.43279605e-01],\n",
       "       [9.96509337e-01, 3.49066313e-03],\n",
       "       [9.99219078e-01, 7.80922328e-04],\n",
       "       [3.85158807e-01, 6.14841193e-01],\n",
       "       [8.30108797e-01, 1.69891203e-01],\n",
       "       [9.74015153e-01, 2.59848471e-02],\n",
       "       [9.96795245e-01, 3.20475471e-03],\n",
       "       [9.72605761e-01, 2.73942391e-02],\n",
       "       [2.95910834e-01, 7.04089166e-01],\n",
       "       [7.71649394e-01, 2.28350606e-01],\n",
       "       [9.93255228e-01, 6.74477171e-03],\n",
       "       [8.85017527e-01, 1.14982473e-01],\n",
       "       [9.94849605e-01, 5.15039547e-03],\n",
       "       [9.83485890e-01, 1.65141096e-02],\n",
       "       [9.96115945e-01, 3.88405498e-03],\n",
       "       [9.85555858e-01, 1.44441420e-02],\n",
       "       [9.69195841e-01, 3.08041594e-02],\n",
       "       [9.04455857e-01, 9.55441430e-02],\n",
       "       [2.79379911e-01, 7.20620089e-01],\n",
       "       [2.49263230e-01, 7.50736770e-01],\n",
       "       [9.79494645e-01, 2.05053548e-02],\n",
       "       [9.98905554e-01, 1.09444561e-03],\n",
       "       [9.92361388e-01, 7.63861227e-03],\n",
       "       [3.78771924e-01, 6.21228076e-01],\n",
       "       [8.57080073e-01, 1.42919927e-01],\n",
       "       [6.87943891e-01, 3.12056109e-01],\n",
       "       [9.98067093e-01, 1.93290689e-03],\n",
       "       [9.74034373e-01, 2.59656272e-02],\n",
       "       [2.32193144e-01, 7.67806856e-01],\n",
       "       [7.41237895e-01, 2.58762105e-01],\n",
       "       [4.79119067e-01, 5.20880933e-01],\n",
       "       [2.25899760e-01, 7.74100240e-01],\n",
       "       [9.76361292e-01, 2.36387077e-02],\n",
       "       [9.94952830e-01, 5.04717003e-03],\n",
       "       [9.96710831e-01, 3.28916927e-03],\n",
       "       [8.67985493e-01, 1.32014507e-01],\n",
       "       [9.64814976e-01, 3.51850235e-02],\n",
       "       [2.81637069e-01, 7.18362931e-01],\n",
       "       [9.95515042e-01, 4.48495750e-03],\n",
       "       [9.73417999e-01, 2.65820012e-02],\n",
       "       [7.23372125e-01, 2.76627875e-01],\n",
       "       [2.80082268e-01, 7.19917732e-01],\n",
       "       [1.76319718e-01, 8.23680282e-01],\n",
       "       [8.04696962e-01, 1.95303038e-01],\n",
       "       [9.67852667e-01, 3.21473333e-02],\n",
       "       [9.46112599e-01, 5.38874008e-02],\n",
       "       [9.04231961e-01, 9.57680391e-02],\n",
       "       [2.76065566e-01, 7.23934434e-01],\n",
       "       [4.31086460e-01, 5.68913540e-01],\n",
       "       [9.78314726e-01, 2.16852743e-02],\n",
       "       [8.76177145e-01, 1.23822855e-01],\n",
       "       [9.93792935e-01, 6.20706526e-03],\n",
       "       [9.96481652e-01, 3.51834789e-03],\n",
       "       [9.98123004e-01, 1.87699640e-03],\n",
       "       [8.18391171e-01, 1.81608829e-01],\n",
       "       [3.38254247e-01, 6.61745753e-01],\n",
       "       [9.14190136e-01, 8.58098638e-02],\n",
       "       [7.96635833e-01, 2.03364167e-01],\n",
       "       [9.90926510e-01, 9.07348964e-03],\n",
       "       [2.64528282e-01, 7.35471718e-01],\n",
       "       [8.70108026e-01, 1.29891974e-01],\n",
       "       [9.23487372e-01, 7.65126276e-02],\n",
       "       [9.90109094e-01, 9.89090582e-03],\n",
       "       [9.85626267e-01, 1.43737332e-02],\n",
       "       [9.75931763e-01, 2.40682369e-02],\n",
       "       [9.89058286e-01, 1.09417143e-02],\n",
       "       [7.42082032e-01, 2.57917968e-01],\n",
       "       [9.84178534e-01, 1.58214659e-02],\n",
       "       [9.66883863e-01, 3.31161370e-02],\n",
       "       [8.86004151e-01, 1.13995849e-01],\n",
       "       [4.49781607e-01, 5.50218393e-01],\n",
       "       [1.88277632e-01, 8.11722368e-01],\n",
       "       [9.78773277e-01, 2.12267233e-02],\n",
       "       [6.69091524e-01, 3.30908476e-01],\n",
       "       [9.94823231e-01, 5.17676923e-03],\n",
       "       [8.93111907e-02, 9.10688809e-01],\n",
       "       [8.86629507e-01, 1.13370493e-01],\n",
       "       [2.32193144e-01, 7.67806856e-01],\n",
       "       [9.94249185e-01, 5.75081452e-03],\n",
       "       [9.87808171e-01, 1.21918290e-02],\n",
       "       [9.88355873e-01, 1.16441265e-02],\n",
       "       [5.80876226e-01, 4.19123774e-01],\n",
       "       [9.92551782e-01, 7.44821833e-03],\n",
       "       [9.65670417e-01, 3.43295829e-02],\n",
       "       [9.82743930e-01, 1.72560697e-02],\n",
       "       [6.59392875e-01, 3.40607125e-01],\n",
       "       [9.76345568e-01, 2.36544322e-02],\n",
       "       [9.57687211e-01, 4.23127886e-02],\n",
       "       [2.92064734e-01, 7.07935266e-01],\n",
       "       [9.17087355e-01, 8.29126452e-02],\n",
       "       [5.44490866e-01, 4.55509134e-01],\n",
       "       [9.92533191e-01, 7.46680870e-03],\n",
       "       [4.31086460e-01, 5.68913540e-01],\n",
       "       [9.55309481e-01, 4.46905192e-02],\n",
       "       [9.02874472e-01, 9.71255282e-02],\n",
       "       [9.16601284e-01, 8.33987162e-02],\n",
       "       [9.43146254e-01, 5.68537461e-02],\n",
       "       [6.42323081e-01, 3.57676919e-01],\n",
       "       [4.68897743e-01, 5.31102257e-01],\n",
       "       [9.83366183e-01, 1.66338167e-02],\n",
       "       [9.79357292e-01, 2.06427077e-02],\n",
       "       [9.92530597e-01, 7.46940347e-03],\n",
       "       [9.10368936e-01, 8.96310645e-02],\n",
       "       [9.98774093e-01, 1.22590661e-03],\n",
       "       [9.79301360e-01, 2.06986405e-02],\n",
       "       [7.29033095e-01, 2.70966905e-01],\n",
       "       [8.30069258e-02, 9.16993074e-01],\n",
       "       [8.95668136e-01, 1.04331864e-01],\n",
       "       [9.85691831e-01, 1.43081685e-02],\n",
       "       [9.98164249e-01, 1.83575076e-03],\n",
       "       [9.99284703e-01, 7.15297263e-04],\n",
       "       [9.95610950e-01, 4.38905031e-03],\n",
       "       [4.50276535e-01, 5.49723465e-01],\n",
       "       [9.99157972e-01, 8.42028069e-04],\n",
       "       [7.53071029e-01, 2.46928971e-01],\n",
       "       [5.00289589e-01, 4.99710411e-01],\n",
       "       [9.60924608e-01, 3.90753917e-02],\n",
       "       [8.55206338e-01, 1.44793662e-01],\n",
       "       [9.71956008e-01, 2.80439918e-02],\n",
       "       [7.39373977e-01, 2.60626023e-01],\n",
       "       [9.90732878e-01, 9.26712186e-03],\n",
       "       [4.48595949e-01, 5.51404051e-01],\n",
       "       [9.68894253e-01, 3.11057467e-02],\n",
       "       [9.79164053e-01, 2.08359467e-02],\n",
       "       [4.22367725e-01, 5.77632275e-01],\n",
       "       [9.94667395e-01, 5.33260501e-03],\n",
       "       [8.84826517e-01, 1.15173483e-01],\n",
       "       [9.14603630e-01, 8.53963697e-02],\n",
       "       [4.76065757e-01, 5.23934243e-01],\n",
       "       [3.25976826e-01, 6.74023174e-01],\n",
       "       [8.54048734e-01, 1.45951266e-01],\n",
       "       [8.11712053e-01, 1.88287947e-01],\n",
       "       [9.88368624e-01, 1.16313764e-02],\n",
       "       [9.70512371e-01, 2.94876291e-02],\n",
       "       [9.96589488e-01, 3.41051242e-03],\n",
       "       [9.33822692e-01, 6.61773080e-02],\n",
       "       [9.92841910e-01, 7.15809013e-03],\n",
       "       [9.98857564e-01, 1.14243595e-03]])"
      ]
     },
     "execution_count": 15,
     "metadata": {},
     "output_type": "execute_result"
    }
   ],
   "source": [
    "model.predict_proba(X_val)"
   ]
  },
  {
   "cell_type": "code",
   "execution_count": 16,
   "id": "6cedd168",
   "metadata": {},
   "outputs": [],
   "source": [
    "y_pred = model.predict_proba(X_val)[:, 1]"
   ]
  },
  {
   "cell_type": "code",
   "execution_count": 17,
   "id": "541000fe",
   "metadata": {},
   "outputs": [],
   "source": [
    "good = y_pred > 0.5"
   ]
  },
  {
   "cell_type": "code",
   "execution_count": 18,
   "id": "c8045d27",
   "metadata": {},
   "outputs": [
    {
     "data": {
      "text/plain": [
       "0.8308823529411765"
      ]
     },
     "execution_count": 18,
     "metadata": {},
     "output_type": "execute_result"
    }
   ],
   "source": [
    "(y_val == good).mean()"
   ]
  },
  {
   "cell_type": "code",
   "execution_count": 19,
   "id": "d51f03bd",
   "metadata": {},
   "outputs": [
    {
     "data": {
      "text/plain": [
       "0.8308823529411765"
      ]
     },
     "execution_count": 19,
     "metadata": {},
     "output_type": "execute_result"
    }
   ],
   "source": [
    "accuracy_score(y_val, y_pred>0.5)"
   ]
  },
  {
   "cell_type": "code",
   "execution_count": 22,
   "id": "659dde6b",
   "metadata": {},
   "outputs": [
    {
     "data": {
      "text/plain": [
       "array([[190,  18],\n",
       "       [ 28,  36]])"
      ]
     },
     "execution_count": 22,
     "metadata": {},
     "output_type": "execute_result"
    }
   ],
   "source": [
    "actual_positive = (y_val == 1)\n",
    "actual_negative = (y_val == 0)\n",
    "\n",
    "\n",
    "t = 0.5\n",
    "predict_positive = (y_pred >= t)\n",
    "predict_negative = (y_pred < t)\n",
    "\n",
    "tp = (predict_positive & actual_positive).sum()\n",
    "tn = (predict_negative & actual_negative).sum()\n",
    "\n",
    "fp = (predict_positive & actual_negative).sum()\n",
    "fn = (predict_negative & actual_positive).sum()\n",
    "confusion_matrix = np.array([\n",
    "    [tn, fp],\n",
    "    [fn, tp]\n",
    "])\n",
    "confusion_matrix"
   ]
  },
  {
   "cell_type": "code",
   "execution_count": 23,
   "id": "c7ed96a8",
   "metadata": {},
   "outputs": [
    {
     "data": {
      "text/plain": [
       "272"
      ]
     },
     "execution_count": 23,
     "metadata": {},
     "output_type": "execute_result"
    }
   ],
   "source": [
    "len(y_val)"
   ]
  },
  {
   "cell_type": "code",
   "execution_count": 24,
   "id": "9682da3e",
   "metadata": {},
   "outputs": [
    {
     "data": {
      "text/plain": [
       "array([[0.7 , 0.07],\n",
       "       [0.1 , 0.13]])"
      ]
     },
     "execution_count": 24,
     "metadata": {},
     "output_type": "execute_result"
    }
   ],
   "source": [
    "(confusion_matrix / confusion_matrix.sum()).round(2)"
   ]
  },
  {
   "cell_type": "markdown",
   "id": "0d1db6b4",
   "metadata": {},
   "source": [
    "# Compute Precision and Recall"
   ]
  },
  {
   "cell_type": "code",
   "execution_count": 25,
   "id": "03f2cce6",
   "metadata": {},
   "outputs": [
    {
     "data": {
      "text/plain": [
       "0.6666666666666666"
      ]
     },
     "execution_count": 25,
     "metadata": {},
     "output_type": "execute_result"
    }
   ],
   "source": [
    "p = tp / (tp + fp)\n",
    "p"
   ]
  },
  {
   "cell_type": "code",
   "execution_count": 26,
   "id": "ed34d929",
   "metadata": {},
   "outputs": [
    {
     "data": {
      "text/plain": [
       "0.5625"
      ]
     },
     "execution_count": 26,
     "metadata": {},
     "output_type": "execute_result"
    }
   ],
   "source": [
    "r = tp / (tp + fn)\n",
    "r"
   ]
  },
  {
   "cell_type": "markdown",
   "id": "33b36bb6",
   "metadata": {},
   "source": [
    "# Implement ROC and AUC in Python"
   ]
  },
  {
   "cell_type": "code",
   "execution_count": 27,
   "id": "e4b8fb79",
   "metadata": {},
   "outputs": [
    {
     "ename": "SyntaxError",
     "evalue": "iterable argument unpacking follows keyword argument unpacking (3639260843.py, line 11)",
     "output_type": "error",
     "traceback": [
      "\u001b[1;36m  File \u001b[1;32m\"C:\\Users\\Hannah Pichman\\AppData\\Local\\Temp\\ipykernel_4224\\3639260843.py\"\u001b[1;36m, line \u001b[1;32m11\u001b[0m\n\u001b[1;33m    sklearn.metrics.roc_auc_score(y_true, y_score, *, average='macro', sample_weight=None, max_fpr=None, multi_class='raise', labels=None)\u001b[0m\n\u001b[1;37m                                                    ^\u001b[0m\n\u001b[1;31mSyntaxError\u001b[0m\u001b[1;31m:\u001b[0m iterable argument unpacking follows keyword argument unpacking\n"
     ]
    }
   ],
   "source": [
    "import numpy as np\n",
    "import pandas as pd\n",
    "import seaborn as sns\n",
    "import matplotlib.pyplot as mplot\n",
    "from sklearn.feature_extraction import DictVectorizer\n",
    "from sklearn.metrics import accuracy_score\n",
    "from sklearn.metrics import roc_auc_score\n",
    "\n",
    "df=pd.read_csv(r'C:\\Users\\Hannah Pichman\\Downloads\\archive\\Concrete_Data_Yeh.csv')\n",
    "\n",
    "sklearn.metrics.roc_auc_score(y_true, y_score, *, average='macro', sample_weight=None, max_fpr=None, multi_class='raise', labels=None)\n"
   ]
  },
  {
   "cell_type": "code",
   "execution_count": 43,
   "id": "693ea8b8",
   "metadata": {},
   "outputs": [
    {
     "name": "stdout",
     "output_type": "stream",
     "text": [
      "ROC AUC Score: 0.7379807692307692\n"
     ]
    }
   ],
   "source": [
    "from sklearn.metrics import roc_auc_score\n",
    "\n",
    "# Example prediction scores and true labels\n",
    "import pandas as pd \n",
    "\n",
    "y_true = y_val\n",
    "y_scores = model.predict(X_val)\n",
    "\n",
    "\n",
    "# Compute ROC AUC score\n",
    "roc_auc = roc_auc_score(y_true, y_scores)\n",
    "\n",
    "print(\"ROC AUC Score:\", roc_auc)"
   ]
  },
  {
   "cell_type": "code",
   "execution_count": 41,
   "id": "b78b53e4",
   "metadata": {},
   "outputs": [
    {
     "data": {
      "text/plain": [
       "array([0, 0, 0, 0, 0, 1, 0, 0, 0, 0, 0, 0, 0, 0, 0, 0, 1, 1, 0, 0, 0, 0,\n",
       "       0, 0, 1, 0, 0, 0, 1, 1, 0, 0, 0, 0, 0, 0, 0, 0, 0, 0, 1, 0, 1, 0,\n",
       "       0, 1, 0, 1, 1, 0, 0, 0, 0, 1, 0, 0, 0, 1, 0, 1, 1, 0, 0, 0, 1, 0,\n",
       "       1, 0, 0, 1, 0, 0, 0, 0, 1, 0, 0, 0, 1, 0, 0, 0, 0, 0, 0, 0, 0, 0,\n",
       "       0, 0, 1, 0, 0, 1, 0, 0, 0, 0, 0, 0, 1, 0, 1, 0, 0, 0, 1, 1, 0, 0,\n",
       "       0, 0, 0, 1, 0, 1, 0, 0, 0, 1, 0, 0, 1, 0, 0, 1, 0, 0, 0, 1, 0, 0,\n",
       "       0, 0, 1, 0, 0, 0, 1, 0, 0, 0, 1, 0, 0, 0, 0, 0, 0, 0, 1, 0, 1, 1,\n",
       "       0, 0, 0, 1, 0, 1, 0, 0, 1, 0, 1, 1, 0, 0, 0, 0, 0, 0, 0, 0, 1, 1,\n",
       "       1, 0, 0, 0, 0, 1, 0, 0, 0, 0, 0, 0, 0, 1, 0, 0, 0, 0, 0, 0, 0, 0,\n",
       "       0, 0, 0, 0, 0, 0, 1, 1, 0, 0, 0, 1, 0, 1, 0, 0, 0, 0, 0, 0, 0, 0,\n",
       "       0, 0, 1, 0, 1, 0, 1, 0, 0, 0, 0, 0, 0, 0, 0, 0, 0, 0, 0, 1, 1, 1,\n",
       "       0, 0, 0, 0, 0, 0, 1, 1, 0, 0, 0, 1, 0, 1, 0, 0, 1, 0, 0, 0, 0, 1,\n",
       "       0, 0, 0, 0, 0, 0, 0, 0])"
      ]
     },
     "execution_count": 41,
     "metadata": {},
     "output_type": "execute_result"
    }
   ],
   "source": [
    "y_val"
   ]
  },
  {
   "cell_type": "code",
   "execution_count": 39,
   "id": "dcda3cc6",
   "metadata": {},
   "outputs": [
    {
     "data": {
      "text/plain": [
       "array([0, 0, 0, 0, 0, 1, 0, 0, 0, 1, 0, 0, 0, 0, 1, 0, 1, 1, 0, 0, 1, 0,\n",
       "       0, 0, 0, 1, 0, 0, 0, 0, 0, 0, 0, 0, 0, 0, 0, 0, 0, 0, 0, 0, 0, 0,\n",
       "       0, 0, 0, 1, 1, 1, 0, 0, 0, 0, 0, 0, 0, 1, 0, 0, 0, 0, 0, 0, 0, 0,\n",
       "       0, 0, 0, 0, 1, 0, 0, 0, 1, 0, 0, 0, 1, 0, 1, 0, 0, 0, 0, 0, 1, 0,\n",
       "       0, 0, 0, 0, 1, 0, 0, 0, 0, 0, 0, 0, 1, 1, 1, 0, 0, 0, 1, 0, 0, 0,\n",
       "       0, 0, 0, 0, 0, 1, 0, 0, 0, 1, 0, 0, 1, 0, 1, 0, 0, 0, 0, 0, 0, 0,\n",
       "       0, 0, 1, 0, 0, 1, 0, 0, 0, 0, 1, 0, 0, 0, 0, 0, 0, 0, 0, 0, 1, 1,\n",
       "       0, 0, 0, 1, 0, 0, 0, 0, 1, 0, 1, 1, 0, 0, 0, 0, 0, 1, 0, 0, 0, 1,\n",
       "       1, 0, 0, 0, 0, 1, 1, 0, 0, 0, 0, 0, 0, 1, 0, 0, 0, 1, 0, 0, 0, 0,\n",
       "       0, 0, 0, 0, 0, 0, 1, 1, 0, 0, 0, 1, 0, 1, 0, 0, 0, 0, 0, 0, 0, 0,\n",
       "       0, 0, 1, 0, 0, 0, 1, 0, 0, 0, 0, 0, 1, 0, 0, 0, 0, 0, 0, 0, 1, 0,\n",
       "       0, 0, 0, 0, 1, 0, 0, 0, 0, 0, 0, 0, 0, 1, 0, 0, 1, 0, 0, 0, 1, 1,\n",
       "       0, 0, 0, 0, 0, 0, 0, 0])"
      ]
     },
     "execution_count": 39,
     "metadata": {},
     "output_type": "execute_result"
    }
   ],
   "source": [
    "y_scores"
   ]
  },
  {
   "cell_type": "markdown",
   "id": "789fd1e1",
   "metadata": {},
   "source": [
    "# Build your own dataset from NOMAD"
   ]
  },
  {
   "cell_type": "code",
   "execution_count": 66,
   "id": "e1a4e5f1",
   "metadata": {},
   "outputs": [
    {
     "ename": "ValueError",
     "evalue": "25 columns passed, passed data had 2 columns",
     "output_type": "error",
     "traceback": [
      "\u001b[1;31m---------------------------------------------------------------------------\u001b[0m",
      "\u001b[1;31mAssertionError\u001b[0m                            Traceback (most recent call last)",
      "\u001b[1;32m~\\anaconda3\\lib\\site-packages\\pandas\\core\\internals\\construction.py\u001b[0m in \u001b[0;36m_finalize_columns_and_data\u001b[1;34m(content, columns, dtype)\u001b[0m\n\u001b[0;32m    981\u001b[0m     \u001b[1;32mtry\u001b[0m\u001b[1;33m:\u001b[0m\u001b[1;33m\u001b[0m\u001b[1;33m\u001b[0m\u001b[0m\n\u001b[1;32m--> 982\u001b[1;33m         \u001b[0mcolumns\u001b[0m \u001b[1;33m=\u001b[0m \u001b[0m_validate_or_indexify_columns\u001b[0m\u001b[1;33m(\u001b[0m\u001b[0mcontents\u001b[0m\u001b[1;33m,\u001b[0m \u001b[0mcolumns\u001b[0m\u001b[1;33m)\u001b[0m\u001b[1;33m\u001b[0m\u001b[1;33m\u001b[0m\u001b[0m\n\u001b[0m\u001b[0;32m    983\u001b[0m     \u001b[1;32mexcept\u001b[0m \u001b[0mAssertionError\u001b[0m \u001b[1;32mas\u001b[0m \u001b[0merr\u001b[0m\u001b[1;33m:\u001b[0m\u001b[1;33m\u001b[0m\u001b[1;33m\u001b[0m\u001b[0m\n",
      "\u001b[1;32m~\\anaconda3\\lib\\site-packages\\pandas\\core\\internals\\construction.py\u001b[0m in \u001b[0;36m_validate_or_indexify_columns\u001b[1;34m(content, columns)\u001b[0m\n\u001b[0;32m   1029\u001b[0m             \u001b[1;31m# caller's responsibility to check for this...\u001b[0m\u001b[1;33m\u001b[0m\u001b[1;33m\u001b[0m\u001b[0m\n\u001b[1;32m-> 1030\u001b[1;33m             raise AssertionError(\n\u001b[0m\u001b[0;32m   1031\u001b[0m                 \u001b[1;34mf\"{len(columns)} columns passed, passed data had \"\u001b[0m\u001b[1;33m\u001b[0m\u001b[1;33m\u001b[0m\u001b[0m\n",
      "\u001b[1;31mAssertionError\u001b[0m: 25 columns passed, passed data had 2 columns",
      "\nThe above exception was the direct cause of the following exception:\n",
      "\u001b[1;31mValueError\u001b[0m                                Traceback (most recent call last)",
      "\u001b[1;32m~\\AppData\\Local\\Temp\\ipykernel_31620\\216859265.py\u001b[0m in \u001b[0;36m<module>\u001b[1;34m\u001b[0m\n\u001b[0;32m     20\u001b[0m \u001b[1;33m\u001b[0m\u001b[0m\n\u001b[0;32m     21\u001b[0m \u001b[1;31m# convert the list to a Pandas DataFrame\u001b[0m\u001b[1;33m\u001b[0m\u001b[1;33m\u001b[0m\u001b[0m\n\u001b[1;32m---> 22\u001b[1;33m \u001b[0mdf\u001b[0m \u001b[1;33m=\u001b[0m \u001b[0mpd\u001b[0m\u001b[1;33m.\u001b[0m\u001b[0mDataFrame\u001b[0m\u001b[1;33m(\u001b[0m\u001b[0mdata\u001b[0m\u001b[1;33m,\u001b[0m \u001b[0mcolumns\u001b[0m\u001b[1;33m=\u001b[0m\u001b[1;33m[\u001b[0m\u001b[1;34m'energy'\u001b[0m\u001b[1;33m]\u001b[0m \u001b[1;33m+\u001b[0m \u001b[1;33m[\u001b[0m\u001b[1;34m'x{}'\u001b[0m\u001b[1;33m.\u001b[0m\u001b[0mformat\u001b[0m\u001b[1;33m(\u001b[0m\u001b[0mi\u001b[0m\u001b[1;33m)\u001b[0m \u001b[1;32mfor\u001b[0m \u001b[0mi\u001b[0m \u001b[1;32min\u001b[0m \u001b[0mrange\u001b[0m\u001b[1;33m(\u001b[0m\u001b[0mn_atoms\u001b[0m\u001b[1;33m*\u001b[0m\u001b[1;36m3\u001b[0m\u001b[1;33m)\u001b[0m\u001b[1;33m]\u001b[0m\u001b[1;33m)\u001b[0m\u001b[1;33m\u001b[0m\u001b[1;33m\u001b[0m\u001b[0m\n\u001b[0m\u001b[0;32m     23\u001b[0m \u001b[0mdf\u001b[0m\u001b[1;33m\u001b[0m\u001b[1;33m\u001b[0m\u001b[0m\n",
      "\u001b[1;32m~\\anaconda3\\lib\\site-packages\\pandas\\core\\frame.py\u001b[0m in \u001b[0;36m__init__\u001b[1;34m(self, data, index, columns, dtype, copy)\u001b[0m\n\u001b[0;32m    719\u001b[0m                         \u001b[1;31m# ndarray], Index, Series], Sequence[Any]]\"\u001b[0m\u001b[1;33m\u001b[0m\u001b[1;33m\u001b[0m\u001b[0m\n\u001b[0;32m    720\u001b[0m                         \u001b[0mcolumns\u001b[0m \u001b[1;33m=\u001b[0m \u001b[0mensure_index\u001b[0m\u001b[1;33m(\u001b[0m\u001b[0mcolumns\u001b[0m\u001b[1;33m)\u001b[0m  \u001b[1;31m# type: ignore[arg-type]\u001b[0m\u001b[1;33m\u001b[0m\u001b[1;33m\u001b[0m\u001b[0m\n\u001b[1;32m--> 721\u001b[1;33m                     arrays, columns, index = nested_data_to_arrays(\n\u001b[0m\u001b[0;32m    722\u001b[0m                         \u001b[1;31m# error: Argument 3 to \"nested_data_to_arrays\" has incompatible\u001b[0m\u001b[1;33m\u001b[0m\u001b[1;33m\u001b[0m\u001b[0m\n\u001b[0;32m    723\u001b[0m                         \u001b[1;31m# type \"Optional[Collection[Any]]\"; expected \"Optional[Index]\"\u001b[0m\u001b[1;33m\u001b[0m\u001b[1;33m\u001b[0m\u001b[0m\n",
      "\u001b[1;32m~\\anaconda3\\lib\\site-packages\\pandas\\core\\internals\\construction.py\u001b[0m in \u001b[0;36mnested_data_to_arrays\u001b[1;34m(data, columns, index, dtype)\u001b[0m\n\u001b[0;32m    517\u001b[0m         \u001b[0mcolumns\u001b[0m \u001b[1;33m=\u001b[0m \u001b[0mensure_index\u001b[0m\u001b[1;33m(\u001b[0m\u001b[0mdata\u001b[0m\u001b[1;33m[\u001b[0m\u001b[1;36m0\u001b[0m\u001b[1;33m]\u001b[0m\u001b[1;33m.\u001b[0m\u001b[0m_fields\u001b[0m\u001b[1;33m)\u001b[0m\u001b[1;33m\u001b[0m\u001b[1;33m\u001b[0m\u001b[0m\n\u001b[0;32m    518\u001b[0m \u001b[1;33m\u001b[0m\u001b[0m\n\u001b[1;32m--> 519\u001b[1;33m     \u001b[0marrays\u001b[0m\u001b[1;33m,\u001b[0m \u001b[0mcolumns\u001b[0m \u001b[1;33m=\u001b[0m \u001b[0mto_arrays\u001b[0m\u001b[1;33m(\u001b[0m\u001b[0mdata\u001b[0m\u001b[1;33m,\u001b[0m \u001b[0mcolumns\u001b[0m\u001b[1;33m,\u001b[0m \u001b[0mdtype\u001b[0m\u001b[1;33m=\u001b[0m\u001b[0mdtype\u001b[0m\u001b[1;33m)\u001b[0m\u001b[1;33m\u001b[0m\u001b[1;33m\u001b[0m\u001b[0m\n\u001b[0m\u001b[0;32m    520\u001b[0m     \u001b[0mcolumns\u001b[0m \u001b[1;33m=\u001b[0m \u001b[0mensure_index\u001b[0m\u001b[1;33m(\u001b[0m\u001b[0mcolumns\u001b[0m\u001b[1;33m)\u001b[0m\u001b[1;33m\u001b[0m\u001b[1;33m\u001b[0m\u001b[0m\n\u001b[0;32m    521\u001b[0m \u001b[1;33m\u001b[0m\u001b[0m\n",
      "\u001b[1;32m~\\anaconda3\\lib\\site-packages\\pandas\\core\\internals\\construction.py\u001b[0m in \u001b[0;36mto_arrays\u001b[1;34m(data, columns, dtype)\u001b[0m\n\u001b[0;32m    881\u001b[0m         \u001b[0marr\u001b[0m \u001b[1;33m=\u001b[0m \u001b[0m_list_to_arrays\u001b[0m\u001b[1;33m(\u001b[0m\u001b[0mdata\u001b[0m\u001b[1;33m)\u001b[0m\u001b[1;33m\u001b[0m\u001b[1;33m\u001b[0m\u001b[0m\n\u001b[0;32m    882\u001b[0m \u001b[1;33m\u001b[0m\u001b[0m\n\u001b[1;32m--> 883\u001b[1;33m     \u001b[0mcontent\u001b[0m\u001b[1;33m,\u001b[0m \u001b[0mcolumns\u001b[0m \u001b[1;33m=\u001b[0m \u001b[0m_finalize_columns_and_data\u001b[0m\u001b[1;33m(\u001b[0m\u001b[0marr\u001b[0m\u001b[1;33m,\u001b[0m \u001b[0mcolumns\u001b[0m\u001b[1;33m,\u001b[0m \u001b[0mdtype\u001b[0m\u001b[1;33m)\u001b[0m\u001b[1;33m\u001b[0m\u001b[1;33m\u001b[0m\u001b[0m\n\u001b[0m\u001b[0;32m    884\u001b[0m     \u001b[1;32mreturn\u001b[0m \u001b[0mcontent\u001b[0m\u001b[1;33m,\u001b[0m \u001b[0mcolumns\u001b[0m\u001b[1;33m\u001b[0m\u001b[1;33m\u001b[0m\u001b[0m\n\u001b[0;32m    885\u001b[0m \u001b[1;33m\u001b[0m\u001b[0m\n",
      "\u001b[1;32m~\\anaconda3\\lib\\site-packages\\pandas\\core\\internals\\construction.py\u001b[0m in \u001b[0;36m_finalize_columns_and_data\u001b[1;34m(content, columns, dtype)\u001b[0m\n\u001b[0;32m    983\u001b[0m     \u001b[1;32mexcept\u001b[0m \u001b[0mAssertionError\u001b[0m \u001b[1;32mas\u001b[0m \u001b[0merr\u001b[0m\u001b[1;33m:\u001b[0m\u001b[1;33m\u001b[0m\u001b[1;33m\u001b[0m\u001b[0m\n\u001b[0;32m    984\u001b[0m         \u001b[1;31m# GH#26429 do not raise user-facing AssertionError\u001b[0m\u001b[1;33m\u001b[0m\u001b[1;33m\u001b[0m\u001b[0m\n\u001b[1;32m--> 985\u001b[1;33m         \u001b[1;32mraise\u001b[0m \u001b[0mValueError\u001b[0m\u001b[1;33m(\u001b[0m\u001b[0merr\u001b[0m\u001b[1;33m)\u001b[0m \u001b[1;32mfrom\u001b[0m \u001b[0merr\u001b[0m\u001b[1;33m\u001b[0m\u001b[1;33m\u001b[0m\u001b[0m\n\u001b[0m\u001b[0;32m    986\u001b[0m \u001b[1;33m\u001b[0m\u001b[0m\n\u001b[0;32m    987\u001b[0m     \u001b[1;32mif\u001b[0m \u001b[0mlen\u001b[0m\u001b[1;33m(\u001b[0m\u001b[0mcontents\u001b[0m\u001b[1;33m)\u001b[0m \u001b[1;32mand\u001b[0m \u001b[0mcontents\u001b[0m\u001b[1;33m[\u001b[0m\u001b[1;36m0\u001b[0m\u001b[1;33m]\u001b[0m\u001b[1;33m.\u001b[0m\u001b[0mdtype\u001b[0m \u001b[1;33m==\u001b[0m \u001b[0mnp\u001b[0m\u001b[1;33m.\u001b[0m\u001b[0mobject_\u001b[0m\u001b[1;33m:\u001b[0m\u001b[1;33m\u001b[0m\u001b[1;33m\u001b[0m\u001b[0m\n",
      "\u001b[1;31mValueError\u001b[0m: 25 columns passed, passed data had 2 columns"
     ]
    }
   ],
   "source": [
    "import numpy as np\n",
    "import pandas as pd\n",
    "from ase import Atoms\n",
    "from ase.calculators.emt import EMT\n",
    "\n",
    "data = []\n",
    "\n",
    "# loop over 1000 entries\n",
    "for i in range(1000):\n",
    "    # generate a random molecule with 3-10 atoms\n",
    "    n_atoms = np.random.randint(3, 11)\n",
    "    atoms = Atoms(symbols=['H']*n_atoms, positions=np.random.rand(n_atoms, 3)*10)\n",
    "    \n",
    "    # calculate the total energy of the molecule using the EMT calculator\n",
    "    atoms.set_calculator(EMT())\n",
    "    energy = atoms.get_potential_energy()\n",
    "    \n",
    "    # append the data to the list\n",
    "    data.append([energy, atoms.get_positions().ravel()])\n",
    "\n",
    "# convert the list to a Pandas DataFrame\n",
    "df = pd.DataFrame(data, columns=['energy'] + ['x{}'.format(i) for i in range(n_atoms*3)])\n",
    "df\n"
   ]
  },
  {
   "cell_type": "markdown",
   "id": "63a01def",
   "metadata": {},
   "source": [
    "# Perform SVM on the Binary Classification Dataset\n"
   ]
  },
  {
   "cell_type": "code",
   "execution_count": 68,
   "id": "979a6954",
   "metadata": {},
   "outputs": [
    {
     "name": "stdout",
     "output_type": "stream",
     "text": [
      "Accuracy: 1.0\n"
     ]
    }
   ],
   "source": [
    "from sklearn import datasets\n",
    "from sklearn.model_selection import train_test_split\n",
    "from sklearn import svm\n",
    "from sklearn.metrics import accuracy_score\n",
    "\n",
    "#bare bones code: need to edit still\n",
    "\n",
    "# load the iris dataset from scikit-learn\n",
    "iris = datasets.load_iris()\n",
    "\n",
    "# split the data into training and testing sets\n",
    "X_train, X_test, y_train, y_test = train_test_split(iris.data, iris.target, test_size=0.2, random_state=42)\n",
    "\n",
    "# create a support vector machine classifier\n",
    "clf = svm.SVC(kernel='linear', C=1)\n",
    "\n",
    "# fit the classifier to the training data\n",
    "clf.fit(X_train, y_train)\n",
    "\n",
    "# predict the classes of the testing data\n",
    "y_pred = clf.predict(X_test)\n",
    "\n",
    "# calculate the accuracy of the classifier\n",
    "accuracy = accuracy_score(y_test, y_pred)\n",
    "print(\"Accuracy:\", accuracy)\n"
   ]
  },
  {
   "cell_type": "markdown",
   "id": "2bacc4e9",
   "metadata": {},
   "source": [
    "# Implement Decision Tree"
   ]
  },
  {
   "cell_type": "code",
   "execution_count": 1,
   "id": "d0ddda37",
   "metadata": {},
   "outputs": [],
   "source": [
    "import pandas as pd\n",
    "import numpy as np\n",
    "import math\n",
    "from sklearn.feature_extraction import DictVectorizer\n",
    "from sklearn.metrics import accuracy_score\n",
    "\n",
    "import seaborn as sns\n",
    "from matplotlib import pyplot as plt\n",
    "%matplotlib inline"
   ]
  },
  {
   "cell_type": "code",
   "execution_count": 2,
   "id": "bbcdccb8",
   "metadata": {},
   "outputs": [],
   "source": [
    "df=pd.read_csv(r'C:\\Users\\Hannah Pichman\\Downloads\\archive\\Concrete_Data_Yeh.csv')"
   ]
  },
  {
   "cell_type": "code",
   "execution_count": null,
   "id": "e8a70d25",
   "metadata": {},
   "outputs": [],
   "source": [
    "plt.figure(figsize=(6, 4))\n",
    "\n",
    "sns.histplot(df.csMPa, label='histogram', color='#0000aa', alpha=0.8, bins=40)\n",
    "\n",
    "plt.legend()\n",
    "\n",
    "plt.ylabel('frequency')\n",
    "plt.xlabel('csMPa')\n",
    "\n",
    "plt.show()"
   ]
  },
  {
   "cell_type": "code",
   "execution_count": 3,
   "id": "957d32b3",
   "metadata": {},
   "outputs": [],
   "source": [
    "df['goodconcrete']=(df.csMPa>50.0).astype(int)\n",
    "del df['csMPa']"
   ]
  },
  {
   "cell_type": "code",
   "execution_count": 4,
   "id": "85720368",
   "metadata": {},
   "outputs": [
    {
     "data": {
      "text/html": [
       "<div>\n",
       "<style scoped>\n",
       "    .dataframe tbody tr th:only-of-type {\n",
       "        vertical-align: middle;\n",
       "    }\n",
       "\n",
       "    .dataframe tbody tr th {\n",
       "        vertical-align: top;\n",
       "    }\n",
       "\n",
       "    .dataframe thead th {\n",
       "        text-align: right;\n",
       "    }\n",
       "</style>\n",
       "<table border=\"1\" class=\"dataframe\">\n",
       "  <thead>\n",
       "    <tr style=\"text-align: right;\">\n",
       "      <th></th>\n",
       "      <th>cement</th>\n",
       "      <th>slag</th>\n",
       "      <th>flyash</th>\n",
       "      <th>water</th>\n",
       "      <th>superplasticizer</th>\n",
       "      <th>coarseaggregate</th>\n",
       "      <th>fineaggregate</th>\n",
       "      <th>age</th>\n",
       "      <th>goodconcrete</th>\n",
       "    </tr>\n",
       "  </thead>\n",
       "  <tbody>\n",
       "    <tr>\n",
       "      <th>1025</th>\n",
       "      <td>276.4</td>\n",
       "      <td>116.0</td>\n",
       "      <td>90.3</td>\n",
       "      <td>179.6</td>\n",
       "      <td>8.9</td>\n",
       "      <td>870.1</td>\n",
       "      <td>768.3</td>\n",
       "      <td>28</td>\n",
       "      <td>0</td>\n",
       "    </tr>\n",
       "    <tr>\n",
       "      <th>1026</th>\n",
       "      <td>322.2</td>\n",
       "      <td>0.0</td>\n",
       "      <td>115.6</td>\n",
       "      <td>196.0</td>\n",
       "      <td>10.4</td>\n",
       "      <td>817.9</td>\n",
       "      <td>813.4</td>\n",
       "      <td>28</td>\n",
       "      <td>0</td>\n",
       "    </tr>\n",
       "    <tr>\n",
       "      <th>1027</th>\n",
       "      <td>148.5</td>\n",
       "      <td>139.4</td>\n",
       "      <td>108.6</td>\n",
       "      <td>192.7</td>\n",
       "      <td>6.1</td>\n",
       "      <td>892.4</td>\n",
       "      <td>780.0</td>\n",
       "      <td>28</td>\n",
       "      <td>0</td>\n",
       "    </tr>\n",
       "    <tr>\n",
       "      <th>1028</th>\n",
       "      <td>159.1</td>\n",
       "      <td>186.7</td>\n",
       "      <td>0.0</td>\n",
       "      <td>175.6</td>\n",
       "      <td>11.3</td>\n",
       "      <td>989.6</td>\n",
       "      <td>788.9</td>\n",
       "      <td>28</td>\n",
       "      <td>0</td>\n",
       "    </tr>\n",
       "    <tr>\n",
       "      <th>1029</th>\n",
       "      <td>260.9</td>\n",
       "      <td>100.5</td>\n",
       "      <td>78.3</td>\n",
       "      <td>200.6</td>\n",
       "      <td>8.6</td>\n",
       "      <td>864.5</td>\n",
       "      <td>761.5</td>\n",
       "      <td>28</td>\n",
       "      <td>0</td>\n",
       "    </tr>\n",
       "  </tbody>\n",
       "</table>\n",
       "</div>"
      ],
      "text/plain": [
       "      cement   slag  flyash  water  superplasticizer  coarseaggregate  \\\n",
       "1025   276.4  116.0    90.3  179.6               8.9            870.1   \n",
       "1026   322.2    0.0   115.6  196.0              10.4            817.9   \n",
       "1027   148.5  139.4   108.6  192.7               6.1            892.4   \n",
       "1028   159.1  186.7     0.0  175.6              11.3            989.6   \n",
       "1029   260.9  100.5    78.3  200.6               8.6            864.5   \n",
       "\n",
       "      fineaggregate  age  goodconcrete  \n",
       "1025          768.3   28             0  \n",
       "1026          813.4   28             0  \n",
       "1027          780.0   28             0  \n",
       "1028          788.9   28             0  \n",
       "1029          761.5   28             0  "
      ]
     },
     "execution_count": 4,
     "metadata": {},
     "output_type": "execute_result"
    }
   ],
   "source": [
    "df.tail()"
   ]
  },
  {
   "cell_type": "code",
   "execution_count": 5,
   "id": "bb12a0e9",
   "metadata": {},
   "outputs": [
    {
     "data": {
      "image/png": "[encoded data removed]",
      "text/plain": [
       "<Figure size 600x400 with 1 Axes>"
      ]
     },
     "metadata": {},
     "output_type": "display_data"
    }
   ],
   "source": [
    "plt.figure(figsize=(6, 4))\n",
    "\n",
    "sns.histplot(df.goodconcrete, label='histogram', color='#0000aa', alpha=0.8, bins=40)\n",
    "\n",
    "plt.legend()\n",
    "\n",
    "plt.ylabel('frequency')\n",
    "plt.xlabel('csMPa')\n",
    "\n",
    "plt.show()"
   ]
  },
  {
   "cell_type": "markdown",
   "id": "21dfd80d",
   "metadata": {},
   "source": [
    "### Validation"
   ]
  },
  {
   "cell_type": "code",
   "execution_count": 6,
   "id": "df274035",
   "metadata": {},
   "outputs": [],
   "source": [
    "from sklearn.model_selection import train_test_split"
   ]
  },
  {
   "cell_type": "code",
   "execution_count": 7,
   "id": "14b86d77",
   "metadata": {},
   "outputs": [],
   "source": [
    "df_train_full, df_test = train_test_split(df, test_size=0.2, random_state=1)"
   ]
  },
  {
   "cell_type": "code",
   "execution_count": 8,
   "id": "32a79a9c",
   "metadata": {},
   "outputs": [],
   "source": [
    "df_train, df_val = train_test_split(df_train_full, test_size=0.33, random_state=11)"
   ]
  },
  {
   "cell_type": "code",
   "execution_count": 9,
   "id": "0500892f",
   "metadata": {},
   "outputs": [],
   "source": [
    "y_train = df_train.goodconcrete.values\n",
    "y_val = df_val.goodconcrete.values"
   ]
  },
  {
   "cell_type": "code",
   "execution_count": 10,
   "id": "ec6b72be",
   "metadata": {},
   "outputs": [],
   "source": [
    "del df_train['goodconcrete']\n",
    "del df_val['goodconcrete']"
   ]
  },
  {
   "cell_type": "markdown",
   "id": "37a8d9b7",
   "metadata": {},
   "source": [
    "### Exploratory Data Analysis"
   ]
  },
  {
   "cell_type": "code",
   "execution_count": 11,
   "id": "dd321125",
   "metadata": {},
   "outputs": [
    {
     "data": {
      "text/plain": [
       "0.201"
      ]
     },
     "execution_count": 11,
     "metadata": {},
     "output_type": "execute_result"
    }
   ],
   "source": [
    "global_mean = df_train_full.goodconcrete.mean()\n",
    "round(global_mean, 3)"
   ]
  },
  {
   "cell_type": "markdown",
   "id": "f6cdb2ef",
   "metadata": {},
   "source": [
    "### Data Prep"
   ]
  },
  {
   "cell_type": "code",
   "execution_count": 12,
   "id": "ec7e6e36",
   "metadata": {},
   "outputs": [],
   "source": [
    "numerical=['cement', 'slag', 'flyash', 'water', 'age', 'superplasticizer', 'coarseaggregate', 'fineaggregate']"
   ]
  },
  {
   "cell_type": "code",
   "execution_count": 13,
   "id": "41137e97",
   "metadata": {},
   "outputs": [],
   "source": [
    "train_dict = df_train[numerical].to_dict(orient='records')\n",
    "dv = DictVectorizer(sparse=False)\n",
    "dv.fit(train_dict)\n",
    "X_train = dv.transform(train_dict)"
   ]
  },
  {
   "cell_type": "markdown",
   "id": "c89c0126",
   "metadata": {},
   "source": [
    "### Training Decision Tree"
   ]
  },
  {
   "cell_type": "code",
   "execution_count": 14,
   "id": "afc7fa9f",
   "metadata": {},
   "outputs": [],
   "source": [
    "from sklearn import tree"
   ]
  },
  {
   "cell_type": "code",
   "execution_count": 15,
   "id": "c8e3e8a9",
   "metadata": {},
   "outputs": [
    {
     "data": {
      "text/html": [
       "<style>#sk-container-id-1 {color: black;background-color: white;}#sk-container-id-1 pre{padding: 0;}#sk-container-id-1 div.sk-toggleable {background-color: white;}#sk-container-id-1 label.sk-toggleable__label {cursor: pointer;display: block;width: 100%;margin-bottom: 0;padding: 0.3em;box-sizing: border-box;text-align: center;}#sk-container-id-1 label.sk-toggleable__label-arrow:before {content: \"▸\";float: left;margin-right: 0.25em;color: #696969;}#sk-container-id-1 label.sk-toggleable__label-arrow:hover:before {color: black;}#sk-container-id-1 div.sk-estimator:hover label.sk-toggleable__label-arrow:before {color: black;}#sk-container-id-1 div.sk-toggleable__content {max-height: 0;max-width: 0;overflow: hidden;text-align: left;background-color: #f0f8ff;}#sk-container-id-1 div.sk-toggleable__content pre {margin: 0.2em;color: black;border-radius: 0.25em;background-color: #f0f8ff;}#sk-container-id-1 input.sk-toggleable__control:checked~div.sk-toggleable__content {max-height: 200px;max-width: 100%;overflow: auto;}#sk-container-id-1 input.sk-toggleable__control:checked~label.sk-toggleable__label-arrow:before {content: \"▾\";}#sk-container-id-1 div.sk-estimator input.sk-toggleable__control:checked~label.sk-toggleable__label {background-color: #d4ebff;}#sk-container-id-1 div.sk-label input.sk-toggleable__control:checked~label.sk-toggleable__label {background-color: #d4ebff;}#sk-container-id-1 input.sk-hidden--visually {border: 0;clip: rect(1px 1px 1px 1px);clip: rect(1px, 1px, 1px, 1px);height: 1px;margin: -1px;overflow: hidden;padding: 0;position: absolute;width: 1px;}#sk-container-id-1 div.sk-estimator {font-family: monospace;background-color: #f0f8ff;border: 1px dotted black;border-radius: 0.25em;box-sizing: border-box;margin-bottom: 0.5em;}#sk-container-id-1 div.sk-estimator:hover {background-color: #d4ebff;}#sk-container-id-1 div.sk-parallel-item::after {content: \"\";width: 100%;border-bottom: 1px solid gray;flex-grow: 1;}#sk-container-id-1 div.sk-label:hover label.sk-toggleable__label {background-color: #d4ebff;}#sk-container-id-1 div.sk-serial::before {content: \"\";position: absolute;border-left: 1px solid gray;box-sizing: border-box;top: 0;bottom: 0;left: 50%;z-index: 0;}#sk-container-id-1 div.sk-serial {display: flex;flex-direction: column;align-items: center;background-color: white;padding-right: 0.2em;padding-left: 0.2em;position: relative;}#sk-container-id-1 div.sk-item {position: relative;z-index: 1;}#sk-container-id-1 div.sk-parallel {display: flex;align-items: stretch;justify-content: center;background-color: white;position: relative;}#sk-container-id-1 div.sk-item::before, #sk-container-id-1 div.sk-parallel-item::before {content: \"\";position: absolute;border-left: 1px solid gray;box-sizing: border-box;top: 0;bottom: 0;left: 50%;z-index: -1;}#sk-container-id-1 div.sk-parallel-item {display: flex;flex-direction: column;z-index: 1;position: relative;background-color: white;}#sk-container-id-1 div.sk-parallel-item:first-child::after {align-self: flex-end;width: 50%;}#sk-container-id-1 div.sk-parallel-item:last-child::after {align-self: flex-start;width: 50%;}#sk-container-id-1 div.sk-parallel-item:only-child::after {width: 0;}#sk-container-id-1 div.sk-dashed-wrapped {border: 1px dashed gray;margin: 0 0.4em 0.5em 0.4em;box-sizing: border-box;padding-bottom: 0.4em;background-color: white;}#sk-container-id-1 div.sk-label label {font-family: monospace;font-weight: bold;display: inline-block;line-height: 1.2em;}#sk-container-id-1 div.sk-label-container {text-align: center;}#sk-container-id-1 div.sk-container {/* jupyter's `normalize.less` sets `[hidden] { display: none; }` but bootstrap.min.css set `[hidden] { display: none !important; }` so we also need the `!important` here to be able to override the default hidden behavior on the sphinx rendered scikit-learn.org. See: https://github.com/scikit-learn/scikit-learn/issues/21755 */display: inline-block !important;position: relative;}#sk-container-id-1 div.sk-text-repr-fallback {display: none;}</style><div id=\"sk-container-id-1\" class=\"sk-top-container\"><div class=\"sk-text-repr-fallback\"><pre>DecisionTreeClassifier()</pre><b>In a Jupyter environment, please rerun this cell to show the HTML representation or trust the notebook. <br />On GitHub, the HTML representation is unable to render, please try loading this page with nbviewer.org.</b></div><div class=\"sk-container\" hidden><div class=\"sk-item\"><div class=\"sk-estimator sk-toggleable\"><input class=\"sk-toggleable__control sk-hidden--visually\" id=\"sk-estimator-id-1\" type=\"checkbox\" checked><label for=\"sk-estimator-id-1\" class=\"sk-toggleable__label sk-toggleable__label-arrow\">DecisionTreeClassifier</label><div class=\"sk-toggleable__content\"><pre>DecisionTreeClassifier()</pre></div></div></div></div></div>"
      ],
      "text/plain": [
       "DecisionTreeClassifier()"
      ]
     },
     "execution_count": 15,
     "metadata": {},
     "output_type": "execute_result"
    }
   ],
   "source": [
    "model = tree.DecisionTreeClassifier()\n",
    "model.fit(X_train, y_train)"
   ]
  },
  {
   "cell_type": "code",
   "execution_count": 16,
   "id": "1fb828b5",
   "metadata": {},
   "outputs": [],
   "source": [
    "val_dict = df_val[numerical].to_dict(orient='records')\n",
    "X_val = dv.transform(val_dict)"
   ]
  },
  {
   "cell_type": "code",
   "execution_count": 17,
   "id": "d76ac749",
   "metadata": {},
   "outputs": [
    {
     "data": {
      "text/plain": [
       "array([0, 0, 0, 1, 0, 1, 1, 0, 0, 0, 0, 0, 0, 0, 1, 0, 1, 1, 0, 0, 0, 0,\n",
       "       0, 0, 0, 0, 0, 0, 1, 1, 0, 0, 0, 0, 0, 0, 0, 0, 1, 0, 0, 0, 0, 0,\n",
       "       0, 1, 0, 1, 1, 0, 0, 0, 0, 0, 0, 0, 0, 1, 0, 0, 1, 0, 0, 0, 1, 0,\n",
       "       0, 0, 0, 1, 0, 0, 0, 0, 1, 0, 1, 0, 0, 0, 0, 0, 0, 0, 0, 0, 0, 0,\n",
       "       0, 0, 0, 0, 0, 1, 0, 0, 0, 0, 0, 0, 1, 0, 1, 0, 0, 0, 1, 1, 0, 0,\n",
       "       0, 0, 0, 1, 0, 1, 0, 0, 0, 1, 0, 0, 1, 0, 0, 0, 0, 0, 0, 0, 0, 0,\n",
       "       0, 0, 1, 0, 0, 0, 0, 0, 0, 0, 1, 0, 0, 0, 0, 0, 0, 0, 1, 0, 1, 1,\n",
       "       0, 0, 0, 0, 0, 1, 0, 0, 1, 0, 1, 1, 0, 0, 0, 0, 0, 1, 0, 0, 1, 1,\n",
       "       1, 0, 0, 0, 0, 1, 1, 0, 0, 0, 0, 0, 0, 1, 0, 0, 0, 1, 0, 0, 0, 0,\n",
       "       0, 0, 1, 0, 0, 0, 1, 1, 0, 0, 0, 1, 0, 1, 0, 0, 0, 0, 0, 0, 0, 0,\n",
       "       0, 0, 1, 0, 1, 0, 1, 0, 0, 1, 0, 0, 1, 0, 0, 0, 0, 0, 0, 0, 1, 1,\n",
       "       0, 0, 0, 0, 1, 0, 1, 1, 0, 0, 0, 1, 0, 1, 0, 0, 0, 0, 0, 0, 0, 1,\n",
       "       0, 0, 0, 0, 0, 0, 0, 0])"
      ]
     },
     "execution_count": 17,
     "metadata": {},
     "output_type": "execute_result"
    }
   ],
   "source": [
    "model.predict(X_val)"
   ]
  },
  {
   "cell_type": "code",
   "execution_count": 18,
   "id": "7b4af9ad",
   "metadata": {},
   "outputs": [],
   "source": [
    "from sklearn.tree import export_text"
   ]
  },
  {
   "cell_type": "code",
   "execution_count": 19,
   "id": "3b7ccc2b",
   "metadata": {},
   "outputs": [
    {
     "name": "stdout",
     "output_type": "stream",
     "text": [
      "|--- feature_1 <= 357.50\n",
      "|   |--- feature_0 <= 42.00\n",
      "|   |   |--- feature_2 <= 1127.50\n",
      "|   |   |   |--- feature_1 <= 319.50\n",
      "|   |   |   |   |--- feature_7 <= 161.30\n",
      "|   |   |   |   |   |--- feature_5 <= 54.20\n",
      "|   |   |   |   |   |   |--- feature_1 <= 252.05\n",
      "|   |   |   |   |   |   |   |--- class: 0\n",
      "|   |   |   |   |   |   |--- feature_1 >  252.05\n",
      "|   |   |   |   |   |   |   |--- feature_0 <= 15.50\n",
      "|   |   |   |   |   |   |   |   |--- class: 0\n",
      "|   |   |   |   |   |   |   |--- feature_0 >  15.50\n",
      "|   |   |   |   |   |   |   |   |--- class: 1\n",
      "|   |   |   |   |   |--- feature_5 >  54.20\n",
      "|   |   |   |   |   |   |--- class: 1\n",
      "|   |   |   |   |--- feature_7 >  161.30\n",
      "|   |   |   |   |   |--- feature_1 <= 297.50\n",
      "|   |   |   |   |   |   |--- class: 0\n",
      "|   |   |   |   |   |--- feature_1 >  297.50\n",
      "|   |   |   |   |   |   |--- feature_1 <= 297.90\n",
      "|   |   |   |   |   |   |   |--- class: 1\n",
      "|   |   |   |   |   |   |--- feature_1 >  297.90\n",
      "|   |   |   |   |   |   |   |--- feature_5 <= 153.15\n",
      "|   |   |   |   |   |   |   |   |--- class: 0\n",
      "|   |   |   |   |   |   |   |--- feature_5 >  153.15\n",
      "|   |   |   |   |   |   |   |   |--- feature_5 <= 182.25\n",
      "|   |   |   |   |   |   |   |   |   |--- class: 1\n",
      "|   |   |   |   |   |   |   |   |--- feature_5 >  182.25\n",
      "|   |   |   |   |   |   |   |   |   |--- class: 0\n",
      "|   |   |   |--- feature_1 >  319.50\n",
      "|   |   |   |   |--- feature_5 <= 145.55\n",
      "|   |   |   |   |   |--- class: 0\n",
      "|   |   |   |   |--- feature_5 >  145.55\n",
      "|   |   |   |   |   |--- feature_5 <= 179.30\n",
      "|   |   |   |   |   |   |--- class: 1\n",
      "|   |   |   |   |   |--- feature_5 >  179.30\n",
      "|   |   |   |   |   |   |--- feature_7 <= 179.35\n",
      "|   |   |   |   |   |   |   |--- class: 0\n",
      "|   |   |   |   |   |   |--- feature_7 >  179.35\n",
      "|   |   |   |   |   |   |   |--- feature_0 <= 17.50\n",
      "|   |   |   |   |   |   |   |   |--- class: 0\n",
      "|   |   |   |   |   |   |   |--- feature_0 >  17.50\n",
      "|   |   |   |   |   |   |   |   |--- class: 1\n",
      "|   |   |--- feature_2 >  1127.50\n",
      "|   |   |   |--- class: 1\n",
      "|   |--- feature_0 >  42.00\n",
      "|   |   |--- feature_6 <= 7.85\n",
      "|   |   |   |--- feature_3 <= 746.70\n",
      "|   |   |   |   |--- feature_3 <= 612.00\n",
      "|   |   |   |   |   |--- class: 0\n",
      "|   |   |   |   |--- feature_3 >  612.00\n",
      "|   |   |   |   |   |--- feature_0 <= 225.00\n",
      "|   |   |   |   |   |   |--- feature_7 <= 215.75\n",
      "|   |   |   |   |   |   |   |--- class: 1\n",
      "|   |   |   |   |   |   |--- feature_7 >  215.75\n",
      "|   |   |   |   |   |   |   |--- feature_5 <= 57.00\n",
      "|   |   |   |   |   |   |   |   |--- class: 1\n",
      "|   |   |   |   |   |   |   |--- feature_5 >  57.00\n",
      "|   |   |   |   |   |   |   |   |--- class: 0\n",
      "|   |   |   |   |   |--- feature_0 >  225.00\n",
      "|   |   |   |   |   |   |--- class: 1\n",
      "|   |   |   |--- feature_3 >  746.70\n",
      "|   |   |   |   |--- feature_2 <= 1062.20\n",
      "|   |   |   |   |   |--- class: 0\n",
      "|   |   |   |   |--- feature_2 >  1062.20\n",
      "|   |   |   |   |   |--- feature_2 <= 1065.90\n",
      "|   |   |   |   |   |   |--- class: 1\n",
      "|   |   |   |   |   |--- feature_2 >  1065.90\n",
      "|   |   |   |   |   |   |--- class: 0\n",
      "|   |   |--- feature_6 >  7.85\n",
      "|   |   |   |--- feature_3 <= 793.80\n",
      "|   |   |   |   |--- feature_3 <= 779.10\n",
      "|   |   |   |   |   |--- class: 1\n",
      "|   |   |   |   |--- feature_3 >  779.10\n",
      "|   |   |   |   |   |--- feature_5 <= 49.90\n",
      "|   |   |   |   |   |   |--- class: 0\n",
      "|   |   |   |   |   |--- feature_5 >  49.90\n",
      "|   |   |   |   |   |   |--- class: 1\n",
      "|   |   |   |--- feature_3 >  793.80\n",
      "|   |   |   |   |--- feature_6 <= 11.55\n",
      "|   |   |   |   |   |--- class: 0\n",
      "|   |   |   |   |--- feature_6 >  11.55\n",
      "|   |   |   |   |   |--- feature_3 <= 884.70\n",
      "|   |   |   |   |   |   |--- class: 1\n",
      "|   |   |   |   |   |--- feature_3 >  884.70\n",
      "|   |   |   |   |   |   |--- class: 0\n",
      "|--- feature_1 >  357.50\n",
      "|   |--- feature_0 <= 21.00\n",
      "|   |   |--- feature_1 <= 535.65\n",
      "|   |   |   |--- feature_5 <= 23.00\n",
      "|   |   |   |   |--- class: 0\n",
      "|   |   |   |--- feature_5 >  23.00\n",
      "|   |   |   |   |--- feature_0 <= 5.00\n",
      "|   |   |   |   |   |--- class: 0\n",
      "|   |   |   |   |--- feature_0 >  5.00\n",
      "|   |   |   |   |   |--- feature_2 <= 940.35\n",
      "|   |   |   |   |   |   |--- feature_5 <= 112.55\n",
      "|   |   |   |   |   |   |   |--- class: 0\n",
      "|   |   |   |   |   |   |--- feature_5 >  112.55\n",
      "|   |   |   |   |   |   |   |--- feature_6 <= 9.50\n",
      "|   |   |   |   |   |   |   |   |--- class: 1\n",
      "|   |   |   |   |   |   |   |--- feature_6 >  9.50\n",
      "|   |   |   |   |   |   |   |   |--- class: 0\n",
      "|   |   |   |   |   |--- feature_2 >  940.35\n",
      "|   |   |   |   |   |   |--- feature_2 <= 956.90\n",
      "|   |   |   |   |   |   |   |--- class: 1\n",
      "|   |   |   |   |   |   |--- feature_2 >  956.90\n",
      "|   |   |   |   |   |   |   |--- class: 0\n",
      "|   |   |--- feature_1 >  535.65\n",
      "|   |   |   |--- feature_0 <= 5.00\n",
      "|   |   |   |   |--- class: 0\n",
      "|   |   |   |--- feature_0 >  5.00\n",
      "|   |   |   |   |--- class: 1\n",
      "|   |--- feature_0 >  21.00\n",
      "|   |   |--- feature_7 <= 183.05\n",
      "|   |   |   |--- feature_2 <= 811.50\n",
      "|   |   |   |   |--- class: 0\n",
      "|   |   |   |--- feature_2 >  811.50\n",
      "|   |   |   |   |--- class: 1\n",
      "|   |   |--- feature_7 >  183.05\n",
      "|   |   |   |--- feature_2 <= 907.00\n",
      "|   |   |   |   |--- class: 1\n",
      "|   |   |   |--- feature_2 >  907.00\n",
      "|   |   |   |   |--- feature_0 <= 59.00\n",
      "|   |   |   |   |   |--- class: 0\n",
      "|   |   |   |   |--- feature_0 >  59.00\n",
      "|   |   |   |   |   |--- feature_3 <= 603.50\n",
      "|   |   |   |   |   |   |--- class: 0\n",
      "|   |   |   |   |   |--- feature_3 >  603.50\n",
      "|   |   |   |   |   |   |--- feature_3 <= 735.10\n",
      "|   |   |   |   |   |   |   |--- class: 1\n",
      "|   |   |   |   |   |   |--- feature_3 >  735.10\n",
      "|   |   |   |   |   |   |   |--- class: 0\n",
      "\n"
     ]
    }
   ],
   "source": [
    "print(export_text(model))"
   ]
  },
  {
   "cell_type": "code",
   "execution_count": 20,
   "id": "56b7332d",
   "metadata": {},
   "outputs": [
    {
     "data": {
      "text/plain": [
       "array([[1., 0.],\n",
       "       [1., 0.],\n",
       "       [1., 0.],\n",
       "       [0., 1.],\n",
       "       [1., 0.],\n",
       "       [0., 1.],\n",
       "       [0., 1.],\n",
       "       [1., 0.],\n",
       "       [1., 0.],\n",
       "       [1., 0.],\n",
       "       [1., 0.],\n",
       "       [1., 0.],\n",
       "       [1., 0.],\n",
       "       [1., 0.],\n",
       "       [0., 1.],\n",
       "       [1., 0.],\n",
       "       [0., 1.],\n",
       "       [0., 1.],\n",
       "       [1., 0.],\n",
       "       [1., 0.],\n",
       "       [1., 0.],\n",
       "       [1., 0.],\n",
       "       [1., 0.],\n",
       "       [1., 0.],\n",
       "       [1., 0.],\n",
       "       [1., 0.],\n",
       "       [1., 0.],\n",
       "       [1., 0.],\n",
       "       [0., 1.],\n",
       "       [0., 1.],\n",
       "       [1., 0.],\n",
       "       [1., 0.],\n",
       "       [1., 0.],\n",
       "       [1., 0.],\n",
       "       [1., 0.],\n",
       "       [1., 0.],\n",
       "       [1., 0.],\n",
       "       [1., 0.],\n",
       "       [0., 1.],\n",
       "       [1., 0.],\n",
       "       [1., 0.],\n",
       "       [1., 0.],\n",
       "       [1., 0.],\n",
       "       [1., 0.],\n",
       "       [1., 0.],\n",
       "       [0., 1.],\n",
       "       [1., 0.],\n",
       "       [0., 1.],\n",
       "       [0., 1.],\n",
       "       [1., 0.],\n",
       "       [1., 0.],\n",
       "       [1., 0.],\n",
       "       [1., 0.],\n",
       "       [1., 0.],\n",
       "       [1., 0.],\n",
       "       [1., 0.],\n",
       "       [1., 0.],\n",
       "       [0., 1.],\n",
       "       [1., 0.],\n",
       "       [1., 0.],\n",
       "       [0., 1.],\n",
       "       [1., 0.],\n",
       "       [1., 0.],\n",
       "       [1., 0.],\n",
       "       [0., 1.],\n",
       "       [1., 0.],\n",
       "       [1., 0.],\n",
       "       [1., 0.],\n",
       "       [1., 0.],\n",
       "       [0., 1.],\n",
       "       [1., 0.],\n",
       "       [1., 0.],\n",
       "       [1., 0.],\n",
       "       [1., 0.],\n",
       "       [0., 1.],\n",
       "       [1., 0.],\n",
       "       [0., 1.],\n",
       "       [1., 0.],\n",
       "       [1., 0.],\n",
       "       [1., 0.],\n",
       "       [1., 0.],\n",
       "       [1., 0.],\n",
       "       [1., 0.],\n",
       "       [1., 0.],\n",
       "       [1., 0.],\n",
       "       [1., 0.],\n",
       "       [1., 0.],\n",
       "       [1., 0.],\n",
       "       [1., 0.],\n",
       "       [1., 0.],\n",
       "       [1., 0.],\n",
       "       [1., 0.],\n",
       "       [1., 0.],\n",
       "       [0., 1.],\n",
       "       [1., 0.],\n",
       "       [1., 0.],\n",
       "       [1., 0.],\n",
       "       [1., 0.],\n",
       "       [1., 0.],\n",
       "       [1., 0.],\n",
       "       [0., 1.],\n",
       "       [1., 0.],\n",
       "       [0., 1.],\n",
       "       [1., 0.],\n",
       "       [1., 0.],\n",
       "       [1., 0.],\n",
       "       [0., 1.],\n",
       "       [0., 1.],\n",
       "       [1., 0.],\n",
       "       [1., 0.],\n",
       "       [1., 0.],\n",
       "       [1., 0.],\n",
       "       [1., 0.],\n",
       "       [0., 1.],\n",
       "       [1., 0.],\n",
       "       [0., 1.],\n",
       "       [1., 0.],\n",
       "       [1., 0.],\n",
       "       [1., 0.],\n",
       "       [0., 1.],\n",
       "       [1., 0.],\n",
       "       [1., 0.],\n",
       "       [0., 1.],\n",
       "       [1., 0.],\n",
       "       [1., 0.],\n",
       "       [1., 0.],\n",
       "       [1., 0.],\n",
       "       [1., 0.],\n",
       "       [1., 0.],\n",
       "       [1., 0.],\n",
       "       [1., 0.],\n",
       "       [1., 0.],\n",
       "       [1., 0.],\n",
       "       [1., 0.],\n",
       "       [0., 1.],\n",
       "       [1., 0.],\n",
       "       [1., 0.],\n",
       "       [1., 0.],\n",
       "       [1., 0.],\n",
       "       [1., 0.],\n",
       "       [1., 0.],\n",
       "       [1., 0.],\n",
       "       [0., 1.],\n",
       "       [1., 0.],\n",
       "       [1., 0.],\n",
       "       [1., 0.],\n",
       "       [1., 0.],\n",
       "       [1., 0.],\n",
       "       [1., 0.],\n",
       "       [1., 0.],\n",
       "       [0., 1.],\n",
       "       [1., 0.],\n",
       "       [0., 1.],\n",
       "       [0., 1.],\n",
       "       [1., 0.],\n",
       "       [1., 0.],\n",
       "       [1., 0.],\n",
       "       [1., 0.],\n",
       "       [1., 0.],\n",
       "       [0., 1.],\n",
       "       [1., 0.],\n",
       "       [1., 0.],\n",
       "       [0., 1.],\n",
       "       [1., 0.],\n",
       "       [0., 1.],\n",
       "       [0., 1.],\n",
       "       [1., 0.],\n",
       "       [1., 0.],\n",
       "       [1., 0.],\n",
       "       [1., 0.],\n",
       "       [1., 0.],\n",
       "       [0., 1.],\n",
       "       [1., 0.],\n",
       "       [1., 0.],\n",
       "       [0., 1.],\n",
       "       [0., 1.],\n",
       "       [0., 1.],\n",
       "       [1., 0.],\n",
       "       [1., 0.],\n",
       "       [1., 0.],\n",
       "       [1., 0.],\n",
       "       [0., 1.],\n",
       "       [0., 1.],\n",
       "       [1., 0.],\n",
       "       [1., 0.],\n",
       "       [1., 0.],\n",
       "       [1., 0.],\n",
       "       [1., 0.],\n",
       "       [1., 0.],\n",
       "       [0., 1.],\n",
       "       [1., 0.],\n",
       "       [1., 0.],\n",
       "       [1., 0.],\n",
       "       [0., 1.],\n",
       "       [1., 0.],\n",
       "       [1., 0.],\n",
       "       [1., 0.],\n",
       "       [1., 0.],\n",
       "       [1., 0.],\n",
       "       [1., 0.],\n",
       "       [0., 1.],\n",
       "       [1., 0.],\n",
       "       [1., 0.],\n",
       "       [1., 0.],\n",
       "       [0., 1.],\n",
       "       [0., 1.],\n",
       "       [1., 0.],\n",
       "       [1., 0.],\n",
       "       [1., 0.],\n",
       "       [0., 1.],\n",
       "       [1., 0.],\n",
       "       [0., 1.],\n",
       "       [1., 0.],\n",
       "       [1., 0.],\n",
       "       [1., 0.],\n",
       "       [1., 0.],\n",
       "       [1., 0.],\n",
       "       [1., 0.],\n",
       "       [1., 0.],\n",
       "       [1., 0.],\n",
       "       [1., 0.],\n",
       "       [1., 0.],\n",
       "       [0., 1.],\n",
       "       [1., 0.],\n",
       "       [0., 1.],\n",
       "       [1., 0.],\n",
       "       [0., 1.],\n",
       "       [1., 0.],\n",
       "       [1., 0.],\n",
       "       [0., 1.],\n",
       "       [1., 0.],\n",
       "       [1., 0.],\n",
       "       [0., 1.],\n",
       "       [1., 0.],\n",
       "       [1., 0.],\n",
       "       [1., 0.],\n",
       "       [1., 0.],\n",
       "       [1., 0.],\n",
       "       [1., 0.],\n",
       "       [1., 0.],\n",
       "       [0., 1.],\n",
       "       [0., 1.],\n",
       "       [1., 0.],\n",
       "       [1., 0.],\n",
       "       [1., 0.],\n",
       "       [1., 0.],\n",
       "       [0., 1.],\n",
       "       [1., 0.],\n",
       "       [0., 1.],\n",
       "       [0., 1.],\n",
       "       [1., 0.],\n",
       "       [1., 0.],\n",
       "       [1., 0.],\n",
       "       [0., 1.],\n",
       "       [1., 0.],\n",
       "       [0., 1.],\n",
       "       [1., 0.],\n",
       "       [1., 0.],\n",
       "       [1., 0.],\n",
       "       [1., 0.],\n",
       "       [1., 0.],\n",
       "       [1., 0.],\n",
       "       [1., 0.],\n",
       "       [0., 1.],\n",
       "       [1., 0.],\n",
       "       [1., 0.],\n",
       "       [1., 0.],\n",
       "       [1., 0.],\n",
       "       [1., 0.],\n",
       "       [1., 0.],\n",
       "       [1., 0.],\n",
       "       [1., 0.]])"
      ]
     },
     "execution_count": 20,
     "metadata": {},
     "output_type": "execute_result"
    }
   ],
   "source": [
    "model.predict_proba(X_val)"
   ]
  },
  {
   "cell_type": "code",
   "execution_count": 21,
   "id": "f6e8c1e9",
   "metadata": {},
   "outputs": [
    {
     "data": {
      "text/plain": [
       "0.9044117647058824"
      ]
     },
     "execution_count": 21,
     "metadata": {},
     "output_type": "execute_result"
    }
   ],
   "source": [
    "y_pred = model.predict_proba(X_val)[:, 1]\n",
    "\n",
    "good = y_pred > 0.5\n",
    "\n",
    "(y_val == good).mean()"
   ]
  },
  {
   "cell_type": "code",
   "execution_count": 22,
   "id": "5112fbea",
   "metadata": {},
   "outputs": [
    {
     "data": {
      "text/plain": [
       "0.9044117647058824"
      ]
     },
     "execution_count": 22,
     "metadata": {},
     "output_type": "execute_result"
    }
   ],
   "source": [
    "accuracy_score(y_val, y_pred>0.5)"
   ]
  },
  {
   "cell_type": "code",
   "execution_count": 23,
   "id": "6be647ba",
   "metadata": {},
   "outputs": [
    {
     "data": {
      "text/plain": [
       "272"
      ]
     },
     "execution_count": 23,
     "metadata": {},
     "output_type": "execute_result"
    }
   ],
   "source": [
    "actual_positive = (y_val == 1)\n",
    "actual_negative = (y_val == 0)\n",
    "\n",
    "t = 0.5\n",
    "predict_positive = (y_pred >= t)\n",
    "predict_negative = (y_pred < t)\n",
    "\n",
    "tp = (predict_positive & actual_positive).sum()\n",
    "tn = (predict_negative & actual_negative).sum()\n",
    "\n",
    "fp = (predict_positive & actual_negative).sum()\n",
    "fn = (predict_negative & actual_positive).sum()\n",
    "confusion_matrix = np.array([\n",
    "    [tn, fp],\n",
    "    [fn, tp]\n",
    "])\n",
    "confusion_matrix\n",
    "\n",
    "len(y_val)"
   ]
  },
  {
   "cell_type": "code",
   "execution_count": 24,
   "id": "1b786841",
   "metadata": {},
   "outputs": [
    {
     "data": {
      "text/plain": [
       "array([[0.72, 0.04],\n",
       "       [0.05, 0.18]])"
      ]
     },
     "execution_count": 24,
     "metadata": {},
     "output_type": "execute_result"
    }
   ],
   "source": [
    "(confusion_matrix / confusion_matrix.sum()).round(2)"
   ]
  },
  {
   "cell_type": "markdown",
   "id": "5d00def5",
   "metadata": {},
   "source": [
    "### Precision and Recall"
   ]
  },
  {
   "cell_type": "code",
   "execution_count": 25,
   "id": "c870ae7e",
   "metadata": {},
   "outputs": [
    {
     "data": {
      "text/plain": [
       "0.8064516129032258"
      ]
     },
     "execution_count": 25,
     "metadata": {},
     "output_type": "execute_result"
    }
   ],
   "source": [
    "p = tp / (tp + fp)\n",
    "p"
   ]
  },
  {
   "cell_type": "code",
   "execution_count": 26,
   "id": "60f49fd4",
   "metadata": {},
   "outputs": [
    {
     "data": {
      "text/plain": [
       "0.78125"
      ]
     },
     "execution_count": 26,
     "metadata": {},
     "output_type": "execute_result"
    }
   ],
   "source": [
    "r = tp / (tp + fn)\n",
    "r"
   ]
  },
  {
   "cell_type": "code",
   "execution_count": 27,
   "id": "0abae828",
   "metadata": {},
   "outputs": [
    {
     "data": {
      "text/plain": [
       "0.8617788461538461"
      ]
     },
     "execution_count": 27,
     "metadata": {},
     "output_type": "execute_result"
    }
   ],
   "source": [
    "from sklearn.metrics import roc_auc_score\n",
    "\n",
    "roc_auc_score(y_val,y_pred)"
   ]
  },
  {
   "cell_type": "code",
   "execution_count": null,
   "id": "acdc6c15",
   "metadata": {},
   "outputs": [],
   "source": []
  },
  {
   "cell_type": "markdown",
   "id": "65b50c50",
   "metadata": {},
   "source": [
    "# Implement a Random Forest"
   ]
  },
  {
   "cell_type": "code",
   "execution_count": 28,
   "id": "24c3ab13",
   "metadata": {},
   "outputs": [
    {
     "data": {
      "text/html": [
       "<style>#sk-container-id-2 {color: black;background-color: white;}#sk-container-id-2 pre{padding: 0;}#sk-container-id-2 div.sk-toggleable {background-color: white;}#sk-container-id-2 label.sk-toggleable__label {cursor: pointer;display: block;width: 100%;margin-bottom: 0;padding: 0.3em;box-sizing: border-box;text-align: center;}#sk-container-id-2 label.sk-toggleable__label-arrow:before {content: \"▸\";float: left;margin-right: 0.25em;color: #696969;}#sk-container-id-2 label.sk-toggleable__label-arrow:hover:before {color: black;}#sk-container-id-2 div.sk-estimator:hover label.sk-toggleable__label-arrow:before {color: black;}#sk-container-id-2 div.sk-toggleable__content {max-height: 0;max-width: 0;overflow: hidden;text-align: left;background-color: #f0f8ff;}#sk-container-id-2 div.sk-toggleable__content pre {margin: 0.2em;color: black;border-radius: 0.25em;background-color: #f0f8ff;}#sk-container-id-2 input.sk-toggleable__control:checked~div.sk-toggleable__content {max-height: 200px;max-width: 100%;overflow: auto;}#sk-container-id-2 input.sk-toggleable__control:checked~label.sk-toggleable__label-arrow:before {content: \"▾\";}#sk-container-id-2 div.sk-estimator input.sk-toggleable__control:checked~label.sk-toggleable__label {background-color: #d4ebff;}#sk-container-id-2 div.sk-label input.sk-toggleable__control:checked~label.sk-toggleable__label {background-color: #d4ebff;}#sk-container-id-2 input.sk-hidden--visually {border: 0;clip: rect(1px 1px 1px 1px);clip: rect(1px, 1px, 1px, 1px);height: 1px;margin: -1px;overflow: hidden;padding: 0;position: absolute;width: 1px;}#sk-container-id-2 div.sk-estimator {font-family: monospace;background-color: #f0f8ff;border: 1px dotted black;border-radius: 0.25em;box-sizing: border-box;margin-bottom: 0.5em;}#sk-container-id-2 div.sk-estimator:hover {background-color: #d4ebff;}#sk-container-id-2 div.sk-parallel-item::after {content: \"\";width: 100%;border-bottom: 1px solid gray;flex-grow: 1;}#sk-container-id-2 div.sk-label:hover label.sk-toggleable__label {background-color: #d4ebff;}#sk-container-id-2 div.sk-serial::before {content: \"\";position: absolute;border-left: 1px solid gray;box-sizing: border-box;top: 0;bottom: 0;left: 50%;z-index: 0;}#sk-container-id-2 div.sk-serial {display: flex;flex-direction: column;align-items: center;background-color: white;padding-right: 0.2em;padding-left: 0.2em;position: relative;}#sk-container-id-2 div.sk-item {position: relative;z-index: 1;}#sk-container-id-2 div.sk-parallel {display: flex;align-items: stretch;justify-content: center;background-color: white;position: relative;}#sk-container-id-2 div.sk-item::before, #sk-container-id-2 div.sk-parallel-item::before {content: \"\";position: absolute;border-left: 1px solid gray;box-sizing: border-box;top: 0;bottom: 0;left: 50%;z-index: -1;}#sk-container-id-2 div.sk-parallel-item {display: flex;flex-direction: column;z-index: 1;position: relative;background-color: white;}#sk-container-id-2 div.sk-parallel-item:first-child::after {align-self: flex-end;width: 50%;}#sk-container-id-2 div.sk-parallel-item:last-child::after {align-self: flex-start;width: 50%;}#sk-container-id-2 div.sk-parallel-item:only-child::after {width: 0;}#sk-container-id-2 div.sk-dashed-wrapped {border: 1px dashed gray;margin: 0 0.4em 0.5em 0.4em;box-sizing: border-box;padding-bottom: 0.4em;background-color: white;}#sk-container-id-2 div.sk-label label {font-family: monospace;font-weight: bold;display: inline-block;line-height: 1.2em;}#sk-container-id-2 div.sk-label-container {text-align: center;}#sk-container-id-2 div.sk-container {/* jupyter's `normalize.less` sets `[hidden] { display: none; }` but bootstrap.min.css set `[hidden] { display: none !important; }` so we also need the `!important` here to be able to override the default hidden behavior on the sphinx rendered scikit-learn.org. See: https://github.com/scikit-learn/scikit-learn/issues/21755 */display: inline-block !important;position: relative;}#sk-container-id-2 div.sk-text-repr-fallback {display: none;}</style><div id=\"sk-container-id-2\" class=\"sk-top-container\"><div class=\"sk-text-repr-fallback\"><pre>RandomForestClassifier(n_estimators=10, random_state=1)</pre><b>In a Jupyter environment, please rerun this cell to show the HTML representation or trust the notebook. <br />On GitHub, the HTML representation is unable to render, please try loading this page with nbviewer.org.</b></div><div class=\"sk-container\" hidden><div class=\"sk-item\"><div class=\"sk-estimator sk-toggleable\"><input class=\"sk-toggleable__control sk-hidden--visually\" id=\"sk-estimator-id-2\" type=\"checkbox\" checked><label for=\"sk-estimator-id-2\" class=\"sk-toggleable__label sk-toggleable__label-arrow\">RandomForestClassifier</label><div class=\"sk-toggleable__content\"><pre>RandomForestClassifier(n_estimators=10, random_state=1)</pre></div></div></div></div></div>"
      ],
      "text/plain": [
       "RandomForestClassifier(n_estimators=10, random_state=1)"
      ]
     },
     "execution_count": 28,
     "metadata": {},
     "output_type": "execute_result"
    }
   ],
   "source": [
    "from sklearn.ensemble import RandomForestClassifier\n",
    "\n",
    "rf = RandomForestClassifier(n_estimators=10, random_state=1)\n",
    "rf.fit(X_train,y_train)"
   ]
  },
  {
   "cell_type": "code",
   "execution_count": 29,
   "id": "a7fcd87f",
   "metadata": {},
   "outputs": [],
   "source": [
    "y_pred = rf.predict_proba(X_val)[:,1]"
   ]
  },
  {
   "cell_type": "code",
   "execution_count": 30,
   "id": "c2034353",
   "metadata": {},
   "outputs": [
    {
     "data": {
      "text/plain": [
       "0.9380634014423077"
      ]
     },
     "execution_count": 30,
     "metadata": {},
     "output_type": "execute_result"
    }
   ],
   "source": [
    "roc_auc_score(y_val,y_pred)"
   ]
  },
  {
   "cell_type": "code",
   "execution_count": 31,
   "id": "071f110b",
   "metadata": {},
   "outputs": [
    {
     "data": {
      "text/plain": [
       "array([[1., 0.]])"
      ]
     },
     "execution_count": 31,
     "metadata": {},
     "output_type": "execute_result"
    }
   ],
   "source": [
    "rf.predict_proba(X_val[[0]])"
   ]
  },
  {
   "cell_type": "markdown",
   "id": "848e539e",
   "metadata": {},
   "source": [
    "# Implement Gradient Boosting"
   ]
  },
  {
   "cell_type": "code",
   "execution_count": 32,
   "id": "e9f8609b",
   "metadata": {},
   "outputs": [
    {
     "name": "stdout",
     "output_type": "stream",
     "text": [
      "Requirement already satisfied: xgboost in c:\\users\\hannah pichman\\anaconda3\\lib\\site-packages (1.7.5)\n",
      "Requirement already satisfied: scipy in c:\\users\\hannah pichman\\anaconda3\\lib\\site-packages (from xgboost) (1.9.1)\n",
      "Requirement already satisfied: numpy in c:\\users\\hannah pichman\\anaconda3\\lib\\site-packages (from xgboost) (1.24.1)\n",
      "Note: you may need to restart the kernel to use updated packages.\n"
     ]
    }
   ],
   "source": [
    "pip install xgboost"
   ]
  },
  {
   "cell_type": "code",
   "execution_count": 33,
   "id": "356b551e",
   "metadata": {},
   "outputs": [],
   "source": [
    "import xgboost as xgb"
   ]
  },
  {
   "cell_type": "code",
   "execution_count": 34,
   "id": "da794f12",
   "metadata": {},
   "outputs": [],
   "source": [
    "features = dv.get_feature_names_out()\n",
    "dtrain = xgb.DMatrix(X_train, label=y_train, feature_names=features)\n",
    "dval = xgb.DMatrix(X_val, label=y_val, feature_names=features)"
   ]
  },
  {
   "cell_type": "code",
   "execution_count": 35,
   "id": "62030d99",
   "metadata": {},
   "outputs": [],
   "source": [
    "xgb_param ={\n",
    "    'eta':0.3,\n",
    "    'min_child_weight':1,\n",
    "    \n",
    "    'objective' : 'binary:logistic',\n",
    "    'nthread' : 8,\n",
    "    'seed':1,\n",
    "    'verbosity' : 1,\n",
    "}"
   ]
  },
  {
   "cell_type": "code",
   "execution_count": 36,
   "id": "d6618822",
   "metadata": {},
   "outputs": [],
   "source": [
    "model = xgb.train(xgb_param, dtrain, num_boost_round=200)"
   ]
  },
  {
   "cell_type": "code",
   "execution_count": 37,
   "id": "9606a9b8",
   "metadata": {},
   "outputs": [],
   "source": [
    "y_pred = model.predict(dval)"
   ]
  },
  {
   "cell_type": "code",
   "execution_count": 38,
   "id": "d2459597",
   "metadata": {},
   "outputs": [
    {
     "data": {
      "text/plain": [
       "0.9757737379807693"
      ]
     },
     "execution_count": 38,
     "metadata": {},
     "output_type": "execute_result"
    }
   ],
   "source": [
    "from sklearn.metrics import roc_auc_score\n",
    "roc_auc_score(y_val, y_pred)"
   ]
  },
  {
   "cell_type": "code",
   "execution_count": null,
   "id": "16b94241",
   "metadata": {},
   "outputs": [],
   "source": []
  }
 ],
 "metadata": {
  "kernelspec": {
   "display_name": "Python 3 (ipykernel)",
   "language": "python",
   "name": "python3"
  },
  "language_info": {
   "codemirror_mode": {
    "name": "ipython",
    "version": 3
   },
   "file_extension": ".py",
   "mimetype": "text/x-python",
   "name": "python",
   "nbconvert_exporter": "python",
   "pygments_lexer": "ipython3",
   "version": "3.9.13"
  }
 },
 "nbformat": 4,
 "nbformat_minor": 5
}
